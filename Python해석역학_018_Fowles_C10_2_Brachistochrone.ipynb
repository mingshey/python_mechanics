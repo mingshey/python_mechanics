{
  "nbformat": 4,
  "nbformat_minor": 0,
  "metadata": {
    "colab": {
      "provenance": [],
      "authorship_tag": "ABX9TyPMGYU5tZP3ERBS2C8+O3QE",
      "include_colab_link": true
    },
    "kernelspec": {
      "name": "python3",
      "display_name": "Python 3"
    },
    "language_info": {
      "name": "python"
    }
  },
  "cells": [
    {
      "cell_type": "markdown",
      "metadata": {
        "id": "view-in-github",
        "colab_type": "text"
      },
      "source": [
        "<a href=\"https://colab.research.google.com/github/mingshey/python_mechanics/blob/main/Python%ED%95%B4%EC%84%9D%EC%97%AD%ED%95%99_018_Fowles_C10_2_Brachistochrone.ipynb\" target=\"_parent\"><img src=\"https://colab.research.google.com/assets/colab-badge.svg\" alt=\"Open In Colab\"/></a>"
      ]
    },
    {
      "cell_type": "markdown",
      "source": [
        "# Analytical Mechanics with Python\n",
        "# 파이썬으로 코딩하는 해석역학\n",
        "## <Elective Tracks 2024 Summer Programme>"
      ],
      "metadata": {
        "id": "ImEjxxHINRwc"
      }
    },
    {
      "cell_type": "markdown",
      "source": [
        "Fowles, Analytical Mechanics, 7th ed.\n",
        "-----------------------------\n",
        "## Computer Problems\n",
        "\n",
        "### C 10.2\n",
        "\n",
        " 구슬이$xy$ 평면 속의 매끄러운 곡선  $S$ 를 따라 점 $(0,2)$ 에서 점  $(\\pi, 0)$로 미끄러져 내려간다.\n",
        "\n",
        " <img src='https://drive.google.com/uc?export=download&id=1ksT1F3w-oFUWFlT94BK9Iw2w0xXuDtbc' width=\"500\" height =\"\" />\n",
        "\n",
        " 모든 마찰과 공기 저항을 무시할 때 구슬이 내려가는 시간이 가장 짧은 곡선의 모양은?\n",
        "\n"
      ],
      "metadata": {
        "id": "N58nbkEwmjYZ"
      }
    },
    {
      "cell_type": "markdown",
      "source": [
        "### (a) 가장 시간이 적게 걸리는 곡선* 은 사이클로이드임을 증명하시오.\n",
        "\n",
        " \\* \"최속강하선\", brachistochrone (< \"βράχιστος\"(가장 짧은) + \"χρόνος\"(시간))"
      ],
      "metadata": {
        "id": "Ld8oN3XpIFyN"
      }
    },
    {
      "cell_type": "markdown",
      "source": [
        "\n",
        "<img src='https://drive.google.com/uc?export=download&id=1wwrPnskviH76WrqFNnWAo_6AAgUVVYAA' width=\"400\" height =\"\" />\n"
      ],
      "metadata": {
        "id": "QOyuR9iLIN0Q"
      }
    },
    {
      "cell_type": "markdown",
      "source": [
        "경로 위의 극히 짧은 경로 요소는 $$ \\begin{align}\n",
        "ds &=\\sqrt{dx^2+dy^2} = \\sqrt{1 + \\left(\\frac{dy}{dx}\\right)^2}dx\\\\\n",
        "&= \\sqrt{1+y'^2}dx\n",
        "\\end{align}\n",
        "$$\n",
        "\n",
        "이고, 이 경로 요소를 지나는 순간의 속력이 $v$일 때, $ds$를 지나는 시간 $dt$는\n",
        "\n",
        "$$ dt = \\frac{ds}{v} $$ 이다.\n",
        "\n",
        "정지 상태에서 출발했다면 높이 $y$ 에서의 속력은 역학적 에너지 보존에 의해\n",
        "\n",
        "$$ v = \\sqrt{2g(2-y)}$$\n",
        "\n",
        "이다. 여기서 $g$는 중력 가속도이다. 따라서 시간 요소 $dt$는\n",
        "\n",
        "$$ dt = \\sqrt \\frac{1 + y'^2}{2g(2-y)}dx $$\n",
        "\n",
        "이고, 전체 운동 시간은\n",
        "\n",
        "$$ t = \\frac{1}{\\sqrt{2g}}\\int_0^\\pi \\sqrt \\frac{1 + y'^2}{2-y}dx $$\n",
        "\n",
        "이다.\n",
        "\n",
        "여기서\n",
        "\n",
        "$$f(y, y'; x) = \\sqrt \\frac{1 + y'^2}{2-y}$$\n",
        "\n",
        "라 하면, $f$는 변분 $\\delta y$에 대해 $t$의 값을 극소 또는 극대로 만드는 라그랑주 방정식\n",
        "\n",
        "$$ \\frac{\\partial f}{\\partial y} - \\frac{d}{dt}\\frac{\\partial f}{\\partial y'} = 0 $$\n",
        "\n",
        "를 만족해야 한다.\n",
        "\n",
        "$$\\frac{\\partial f}{\\partial y} = \\frac{\\sqrt{1+y'^2}}{(2-y)^{3/2}},$$\n",
        "\n",
        "$$\\frac{\\partial f}{\\partial y'} = \\frac{y'}{\\sqrt{1+y'^2}\\sqrt{2-y}},$$\n",
        "\n",
        "$$\\frac{d}{dx}\\frac{\\partial f}{\\partial y'}=\\frac{y''(2-y)+\\frac{1}{2}(1+y'^2)}{(1+y'^2)^{3/2}(2-y)^{3/2}}.$$\n",
        "\n",
        "으로부터 라그랑주 방정식은\n",
        "\n",
        "$$\\frac{\\partial f}{\\partial y}-\\frac{d}{dx}\\frac{\\partial f}{\\partial y'} = \\frac{(1+y'^2)-2y''(2-y)}{2(1+y'^2)^{3/2}(2-y)^{3/2}}=0$$\n",
        "\n",
        "이고, 여기서 분자가 $0$이어야 하므로, $y(x)$는 비선형 2차 미분 방정식\n",
        "\n",
        "$$ y'' = \\frac{1+y'^2}{2(2-y)} $$\n",
        "\n",
        "을 만족해야 한다."
      ],
      "metadata": {
        "id": "48Ob2GrjoL4G"
      }
    },
    {
      "cell_type": "markdown",
      "source": [
        "* 두 점 $(0, 2)$, $(\\pi, 0)$을 잇는 사이클로이드\n",
        "\n",
        "$$\\left\\{\n",
        "  \\begin{align}\n",
        "  x &= \\theta - \\sin\\theta \\\\\n",
        "  y &= 1 + \\cos\\theta\n",
        "  \\end{align}\n",
        "\\right.$$\n",
        "\n",
        "에 대해\n",
        "\n",
        "$$ y' = \\frac{dy}{dx} = \\frac{dy}{d\\theta}\\frac{d\\theta}{dx} = \\frac{dy/d\\theta}{dx/d\\theta} = -\\frac{\\sin\\theta}{1 - \\cos\\theta},$$\n",
        "\n",
        "$$ 1 + y'^2 = \\frac{(1-\\cos\\theta)^2 + \\sin^2\\theta}{(1-\\cos\\theta)^2} = \\frac{2}{1-\\cos\\theta}$$\n",
        "\n",
        "이고,\n",
        "\n",
        "$$ y'' = \\frac{dy'}{dx}=\\frac{dy'/d\\theta}{dx/d\\theta} = \\frac{1}{(1-\\cos\\theta)^2}, $$\n",
        "\n",
        "$$ 2 - y = 1 - \\cos\\theta $$\n",
        "\n",
        "이므로,\n",
        "\n",
        "$$ \\frac{1+y'^2}{2(2-y)} = \\frac{2}{1-\\cos\\theta}\\frac{1}{2(1-\\cos\\theta)} = \\frac{1}{(1-\\cos\\theta)^2} = y''$$\n",
        "\n",
        "으로 $y(x)$는 위 미분 방정식을 만족한다. 따라서 사이클로이드가 연직면상의 두 점 사이를 가장 빠르게 미끄러져 내려가는 곡선, 즉 **최속강하선**(brachistochrone)임을 알 수 있다."
      ],
      "metadata": {
        "id": "ZEELoLLoybbg"
      }
    },
    {
      "cell_type": "code",
      "execution_count": null,
      "metadata": {
        "id": "WIftaX8Mk2oe"
      },
      "outputs": [],
      "source": [
        "import numpy as np\n",
        "import matplotlib.pyplot as plt\n",
        "import sympy as sym\n",
        "\n",
        "# gaussian quadrature\n",
        "from scipy.integrate import quad"
      ]
    },
    {
      "cell_type": "code",
      "source": [
        "sym.init_printing()"
      ],
      "metadata": {
        "id": "7rCPTxxfx2HF"
      },
      "execution_count": null,
      "outputs": []
    },
    {
      "cell_type": "markdown",
      "source": [
        "### (b) 이차 함수 근사\n",
        "\n",
        "곡선 S를 $y(x) = a_0 + a_1 x + a_2 x^2$ 로 근사하는 경우:\n",
        "\n",
        "$y(0) = a_0 = 2$,\n",
        "\n",
        "및\n",
        "\n",
        "$y(\\pi)=a_0 + a_1 \\pi + a_2 \\pi^2 = 0$ 에서,\n",
        "\n",
        "$a_2 = - \\dfrac{2+\\pi a_1}{\\pi^2}$\n",
        "\n",
        "이다. 따라서 $a_1$에 대해서 최적화를 진행한다."
      ],
      "metadata": {
        "id": "EgFVKP5y9Vo_"
      }
    },
    {
      "cell_type": "code",
      "source": [
        "x, g, a0, a1, a2 = sym.symbols(\"x g a0 a1 a2\")"
      ],
      "metadata": {
        "id": "P9VVLsPjlhN4"
      },
      "execution_count": null,
      "outputs": []
    },
    {
      "cell_type": "code",
      "source": [
        "a0 = 2\n",
        "pi = sym.pi"
      ],
      "metadata": {
        "id": "6A5SUAqDltsa"
      },
      "execution_count": null,
      "outputs": []
    },
    {
      "cell_type": "code",
      "source": [
        "a2 = - (2 + a1*pi) / (pi**2)\n",
        "a2"
      ],
      "metadata": {
        "colab": {
          "base_uri": "https://localhost:8080/",
          "height": 51
        },
        "id": "R-vLmdLslwXa",
        "outputId": "20c6d5a0-968f-4fa4-ca17-16273d3efce0",
        "collapsed": true
      },
      "execution_count": null,
      "outputs": [
        {
          "output_type": "execute_result",
          "data": {
            "text/plain": [
              "-π⋅a₁ - 2\n",
              "─────────\n",
              "    2    \n",
              "   π     "
            ],
            "text/latex": "$\\displaystyle \\frac{- \\pi a_{1} - 2}{\\pi^{2}}$"
          },
          "metadata": {},
          "execution_count": 5
        }
      ]
    },
    {
      "cell_type": "markdown",
      "source": [
        "경로 요소는\n",
        "\n",
        "$$ds = \\sqrt{dx^2 + dy^2} = \\sqrt{ 1 + {y^{\\prime}}^{2} } dx$$\n",
        "\n",
        "경과시간 요소는\n",
        "\n",
        "$$dt = \\dfrac{ds}{v} = \\dfrac{\\sqrt{ 1 + {y^{\\prime}}^{2} }}{\\sqrt{2g(2-y)}} dx$$\n",
        "\n",
        "이고, 따라서 전체 운동 시간은\n",
        "\n",
        "$$ t = \\dfrac{1}{\\sqrt{2g}} \\int_0^\\pi \\sqrt{\\dfrac{1+{y^{\\prime}}^{2}}{2-y}} dx $$\n",
        "\n",
        "이므로\n",
        "\n",
        "$$ f(y, y^{\\prime};t) = \\sqrt{\\dfrac{1+{y^{\\prime}}^{2}}{2-y}} $$\n",
        "\n",
        "라 하면 시간이 극소가 되는 $f$는\n",
        "\n",
        "$$ \\dfrac{\\partial f}{\\partial y}- \\dfrac{d}{dt} \\left( \\dfrac{\\partial f}{\\partial y^{\\prime}} \\right) = 0$$을 만족해야 한다."
      ],
      "metadata": {
        "id": "DPJHfNzmOvdA"
      }
    },
    {
      "cell_type": "code",
      "source": [
        "y = a0 + a1 * x + a2 * x**2\n",
        "yf = sym.lambdify((x, a1), y)\n",
        "y"
      ],
      "metadata": {
        "colab": {
          "base_uri": "https://localhost:8080/",
          "height": 54
        },
        "id": "lSVOamiClxIa",
        "outputId": "6bbe0acf-4280-4a1f-eb3e-87eeecc6da2f",
        "collapsed": true
      },
      "execution_count": null,
      "outputs": [
        {
          "output_type": "execute_result",
          "data": {
            "text/plain": [
              "        2                \n",
              "       x ⋅(-π⋅a₁ - 2)    \n",
              "a₁⋅x + ────────────── + 2\n",
              "              2          \n",
              "             π           "
            ],
            "text/latex": "$\\displaystyle a_{1} x + \\frac{x^{2} \\left(- \\pi a_{1} - 2\\right)}{\\pi^{2}} + 2$"
          },
          "metadata": {},
          "execution_count": 6
        }
      ]
    },
    {
      "cell_type": "markdown",
      "source": [
        "$ y^{\\prime} = \\dfrac{dy}{dx} = a_1 + 2 a_2 x $"
      ],
      "metadata": {
        "id": "mWwwk-mwOhhw"
      }
    },
    {
      "cell_type": "code",
      "source": [
        "yd = sym.diff(y, x)\n",
        "yd"
      ],
      "metadata": {
        "colab": {
          "base_uri": "https://localhost:8080/",
          "height": 53
        },
        "id": "gcqi5EalmGKa",
        "outputId": "8866fd86-394b-40bc-b1a1-0fe7848a60ba",
        "collapsed": true
      },
      "execution_count": null,
      "outputs": [
        {
          "output_type": "execute_result",
          "data": {
            "text/plain": [
              "     2⋅x⋅(-π⋅a₁ - 2)\n",
              "a₁ + ───────────────\n",
              "            2       \n",
              "           π        "
            ],
            "text/latex": "$\\displaystyle a_{1} + \\frac{2 x \\left(- \\pi a_{1} - 2\\right)}{\\pi^{2}}$"
          },
          "metadata": {},
          "execution_count": 7
        }
      ]
    },
    {
      "cell_type": "markdown",
      "source": [
        "$f = \\sqrt{\\dfrac{1+(y^{\\prime})^2}{2-y}}$"
      ],
      "metadata": {
        "id": "D12Z13wBSEgQ"
      }
    },
    {
      "cell_type": "code",
      "source": [
        "f = sym.sqrt((1+yd**2)/(2-y))\n",
        "f"
      ],
      "metadata": {
        "colab": {
          "base_uri": "https://localhost:8080/",
          "height": 83
        },
        "id": "YdDXhV4QmMT5",
        "outputId": "1e449c51-0a6e-494f-e78c-8028e24cbb7a",
        "collapsed": true
      },
      "execution_count": null,
      "outputs": [
        {
          "output_type": "execute_result",
          "data": {
            "text/plain": [
              "            _____________________________\n",
              "           ╱                       2     \n",
              "          ╱  ⎛     2⋅x⋅(-π⋅a₁ - 2)⎞      \n",
              "         ╱   ⎜a₁ + ───────────────⎟  + 1 \n",
              "        ╱    ⎜            2       ⎟      \n",
              "       ╱     ⎝           π        ⎠      \n",
              "      ╱      ─────────────────────────── \n",
              "     ╱                  2                \n",
              "    ╱                  x ⋅(-π⋅a₁ - 2)    \n",
              "   ╱           -a₁⋅x - ──────────────    \n",
              "  ╱                           2          \n",
              "╲╱                           π           "
            ],
            "text/latex": "$\\displaystyle \\sqrt{\\frac{\\left(a_{1} + \\frac{2 x \\left(- \\pi a_{1} - 2\\right)}{\\pi^{2}}\\right)^{2} + 1}{- a_{1} x - \\frac{x^{2} \\left(- \\pi a_{1} - 2\\right)}{\\pi^{2}}}}$"
          },
          "metadata": {},
          "execution_count": 8
        }
      ]
    },
    {
      "cell_type": "markdown",
      "source": [
        "$$ t = \\dfrac{1}{\\sqrt{2g}} \\int_0^\\pi f dx $$"
      ],
      "metadata": {
        "id": "FmRLAotCS9sP"
      }
    },
    {
      "cell_type": "code",
      "source": [
        "'''\n",
        "f/sqrt(2g)를 계산 가능한 함수로 만들어준다.\n",
        "'''\n",
        "ffun = sym.lambdify((x, g, a1), f/sym.sqrt(2*g))"
      ],
      "metadata": {
        "id": "InBnosuHmV0v"
      },
      "execution_count": null,
      "outputs": []
    },
    {
      "cell_type": "code",
      "source": [
        "'''\n",
        "적당한 범위의 a1 값 목록을 만들어준다.\n",
        "경로가 오른쪽 아래로 내려가야 하므로 음의 값으로 제한하고,\n",
        "직선 경로의 경사각 -2/pi ~ -0.6366 을 포함하는 조금 넓은 범위를 잡아준다.\n",
        "'''\n",
        "a1s = np.linspace(-4,0,41)"
      ],
      "metadata": {
        "id": "KGPJ5QKFmg_T"
      },
      "execution_count": null,
      "outputs": []
    },
    {
      "cell_type": "code",
      "source": [
        "'''\n",
        "수치 적분으로 각각의 a1 값에 대한 여행시간을 구한다.\n",
        "'''\n",
        "\n",
        "grav = 9.8;\n",
        "Ts = np.array([quad(ffun,0,np.pi,args=(grav, a)) for a in a1s]).T[0];"
      ],
      "metadata": {
        "id": "7BRptu3_neqI",
        "colab": {
          "base_uri": "https://localhost:8080/"
        },
        "collapsed": true,
        "outputId": "28f4563d-031a-470c-ea6f-93c60ae2fe1a"
      },
      "execution_count": null,
      "outputs": [
        {
          "output_type": "stream",
          "name": "stderr",
          "text": [
            "<ipython-input-11-a3de5d5643e5>:6: IntegrationWarning: The maximum number of subdivisions (50) has been achieved.\n",
            "  If increasing the limit yields no improvement it is advised to analyze \n",
            "  the integrand in order to determine the difficulties.  If the position of a \n",
            "  local difficulty can be determined (singularity, discontinuity) one will \n",
            "  probably gain from splitting up the interval and calling the integrator \n",
            "  on the subranges.  Perhaps a special-purpose integrator should be used.\n",
            "  Ts = np.array([quad(ffun,0,np.pi,args=(grav, a)) for a in a1s]).T[0];\n"
          ]
        }
      ]
    },
    {
      "cell_type": "code",
      "source": [
        "plt.grid()\n",
        "plt.xlabel(\"a1\")\n",
        "plt.ylabel(\"time (s)\")\n",
        "plt.plot(a1s[:30], Ts[:30],\"r.\")"
      ],
      "metadata": {
        "colab": {
          "base_uri": "https://localhost:8080/",
          "height": 468
        },
        "id": "qy1bgfiFpN3v",
        "outputId": "6629c90a-7156-4d93-b80f-467bc031ac57",
        "collapsed": true
      },
      "execution_count": null,
      "outputs": [
        {
          "output_type": "execute_result",
          "data": {
            "text/plain": [
              "[<matplotlib.lines.Line2D at 0x7bad2f141660>]"
            ]
          },
          "metadata": {},
          "execution_count": 12
        },
        {
          "output_type": "display_data",
          "data": {
            "text/plain": [
              "<Figure size 640x480 with 1 Axes>"
            ],
            "image/png": "[encoded data removed]"
          },
          "metadata": {}
        }
      ]
    },
    {
      "cell_type": "code",
      "source": [
        "'''\n",
        "t(a1)의 근사 다항식\n",
        "'''\n",
        "tc = np.polyfit(a1s[:36],Ts[:36],20)\n",
        "tf = np.poly1d(tc)\n",
        "\n",
        "'''\n",
        "근사 다항식의 도함수\n",
        "'''\n",
        "td = np.polyder(tc)"
      ],
      "metadata": {
        "colab": {
          "base_uri": "https://localhost:8080/"
        },
        "id": "MmzCRCISwckc",
        "outputId": "4e485732-09a3-4354-b750-8de7860ada12"
      },
      "execution_count": null,
      "outputs": [
        {
          "output_type": "stream",
          "name": "stderr",
          "text": [
            "<ipython-input-13-f879133bdfa7>:4: RankWarning: Polyfit may be poorly conditioned\n",
            "  tc = np.polyfit(a1s[:36],Ts[:36],20)\n"
          ]
        }
      ]
    },
    {
      "cell_type": "code",
      "source": [
        "'''\n",
        "근사 다항식의 모습이 적분으로 구한 데이타를 잘 대표할 수 있는지 확인을 위해 그래프를 그려 비교해 본다:\n",
        "'''\n",
        "plt.grid()\n",
        "plt.xlabel(\"a1\")\n",
        "plt.ylabel(\"time(s)\")\n",
        "plt.plot(a1s[:36],tf(a1s[:36]),\"c-\")\n",
        "plt.plot(a1s[:36],Ts[:36],\"r.\")\n",
        "plt.legend([\"PolyFit\",\"Quadrature\"])"
      ],
      "metadata": {
        "colab": {
          "base_uri": "https://localhost:8080/",
          "height": 468
        },
        "id": "zcw2i0mByGWd",
        "outputId": "e2406001-6a2e-4fa9-c5e1-7fdb87139985",
        "collapsed": true
      },
      "execution_count": null,
      "outputs": [
        {
          "output_type": "execute_result",
          "data": {
            "text/plain": [
              "<matplotlib.legend.Legend at 0x7bad2cc6c790>"
            ]
          },
          "metadata": {},
          "execution_count": 14
        },
        {
          "output_type": "display_data",
          "data": {
            "text/plain": [
              "<Figure size 640x480 with 1 Axes>"
            ],
            "image/png": "[encoded data removed]"
          },
          "metadata": {}
        }
      ]
    },
    {
      "cell_type": "code",
      "source": [
        "'''\n",
        "시간이 최소가 되는 a1의 최적값을 구한다.\n",
        "-- 근사다항식의 도함수의 근 중 실근을 취한다 --\n",
        "'''\n",
        "a1cand = np.roots(td)\n",
        "a1opt = a1cand[np.isreal(a1cand)][0].real\n",
        "a1opt"
      ],
      "metadata": {
        "colab": {
          "base_uri": "https://localhost:8080/",
          "height": 37
        },
        "id": "SuAG7c_CxXQd",
        "outputId": "48d74bfc-8076-474e-c81d-7ebde933c8c6"
      },
      "execution_count": null,
      "outputs": [
        {
          "output_type": "execute_result",
          "data": {
            "text/plain": [
              "-1.6458907158561775"
            ],
            "text/latex": "$\\displaystyle -1.64589071585618$"
          },
          "metadata": {},
          "execution_count": 15
        }
      ]
    },
    {
      "cell_type": "code",
      "source": [
        "a2f = sym.lambdify((a1), a2)"
      ],
      "metadata": {
        "id": "z8RmHuqEuF36"
      },
      "execution_count": null,
      "outputs": []
    },
    {
      "cell_type": "code",
      "source": [
        "a2opt = a2f(a1opt)\n",
        "a2opt"
      ],
      "metadata": {
        "colab": {
          "base_uri": "https://localhost:8080/",
          "height": 37
        },
        "id": "EN_BJ9g0uQNA",
        "outputId": "1d386c42-146e-4fb8-f515-76a4befab10d"
      },
      "execution_count": null,
      "outputs": [
        {
          "output_type": "execute_result",
          "data": {
            "text/plain": [
              "0.3212609191504621"
            ],
            "text/latex": "$\\displaystyle 0.321260919150462$"
          },
          "metadata": {},
          "execution_count": 17
        }
      ]
    },
    {
      "cell_type": "markdown",
      "source": [
        "### (c) 최소여행시간"
      ],
      "metadata": {
        "id": "pFmvcKFE-FVR"
      }
    },
    {
      "cell_type": "code",
      "source": [
        "'''\n",
        "이차 곡선 근사의 경우\n",
        "'''\n",
        "Topt, _ = quad(ffun, 0, np.pi, args=(grav, a1opt));\n",
        "Topt"
      ],
      "metadata": {
        "colab": {
          "base_uri": "https://localhost:8080/",
          "height": 37
        },
        "id": "ceVCsCb-pWXA",
        "outputId": "38147892-7ace-42fa-9824-a3339c3b52a1"
      },
      "execution_count": null,
      "outputs": [
        {
          "output_type": "execute_result",
          "data": {
            "text/plain": [
              "1.0319411025538565"
            ],
            "text/latex": "$\\displaystyle 1.03194110255386$"
          },
          "metadata": {},
          "execution_count": 18
        }
      ]
    },
    {
      "cell_type": "code",
      "source": [
        "'''\n",
        "사이클로이드의 경우\n",
        "'''\n",
        "\n",
        "tcyc = np.pi / np.sqrt(grav);\n",
        "tcyc"
      ],
      "metadata": {
        "colab": {
          "base_uri": "https://localhost:8080/",
          "height": 37
        },
        "id": "GZ2xW0hL-3mV",
        "outputId": "91c2a4b1-6907-469e-e780-00b09bbcf0db"
      },
      "execution_count": null,
      "outputs": [
        {
          "output_type": "execute_result",
          "data": {
            "text/plain": [
              "1.0035449615772465"
            ],
            "text/latex": "$\\displaystyle 1.00354496157725$"
          },
          "metadata": {},
          "execution_count": 19
        }
      ]
    },
    {
      "cell_type": "markdown",
      "source": [
        "### (d) 이차 곡선과 사이클로이드의 비교:"
      ],
      "metadata": {
        "id": "_psUNhDf-wsV"
      }
    },
    {
      "cell_type": "code",
      "source": [
        "yf"
      ],
      "metadata": {
        "colab": {
          "base_uri": "https://localhost:8080/"
        },
        "id": "K09tBG0NprM2",
        "outputId": "d749b750-06c8-4761-b612-b8552dc28285"
      },
      "execution_count": null,
      "outputs": [
        {
          "output_type": "execute_result",
          "data": {
            "text/plain": [
              "<function _lambdifygenerated(x, a1)>"
            ]
          },
          "metadata": {},
          "execution_count": 20
        }
      ]
    },
    {
      "cell_type": "code",
      "source": [
        "# Quadratic curve\n",
        "xq = np.linspace(0, np.pi, 100)\n",
        "yq = yf(xq, a1opt)\n",
        "\n",
        "# Cycloid\n",
        "th = np.linspace(0,np.pi,100)\n",
        "xc = th - np.sin(th)\n",
        "yc = 1 + np.cos(th)\n",
        "\n",
        "plt.axes().set_aspect(1)\n",
        "plt.grid()\n",
        "plt.xlabel(\"x(m)\")\n",
        "plt.ylabel(\"y(m)\")\n",
        "plt.plot(xq, yq, label=\"Quadratic\")\n",
        "plt.plot(xc, yc, label=\"Cycloid\")\n",
        "plt.legend()"
      ],
      "metadata": {
        "colab": {
          "base_uri": "https://localhost:8080/",
          "height": 432
        },
        "id": "_1C4vze1ucAW",
        "outputId": "bbc101ac-0bd6-4e60-ad47-a2a75934cad6",
        "collapsed": true
      },
      "execution_count": null,
      "outputs": [
        {
          "output_type": "execute_result",
          "data": {
            "text/plain": [
              "<matplotlib.legend.Legend at 0x7bad2ccd3ac0>"
            ]
          },
          "metadata": {},
          "execution_count": 21
        },
        {
          "output_type": "display_data",
          "data": {
            "text/plain": [
              "<Figure size 640x480 with 1 Axes>"
            ],
            "image/png": "[encoded data removed]"
          },
          "metadata": {}
        }
      ]
    },
    {
      "cell_type": "markdown",
      "source": [
        "### <*> Simulated Annealing (random walk) 또는, 시행착오(trial and error) [참고: Metropolis algorithm]\n",
        "구간 $x \\in [a,\\ b]$ 에서 $y = g(x)$인 곡선을 이산적으로 나타내어\n",
        "$x_k \\in [a,\\ b],\\ (k=0,\\dots,n)$에 대해 $y_k=g(x_k)$가 초기 값으로 주어졌다고 하자. $k$와 $k+1$번째 점들 사이의 구간을  $k$번째 구간이라 하면, 구간 길이는\n",
        "\n",
        "$$ \\Delta s_k = \\sqrt{\\Delta x_k ^2 + \\Delta y_k ^2} $$\n",
        "\n",
        "이고, 평균 속력은 각각의 구간을 직선 구간으로 간주하면 각각의 구간에서는 등가속도 운동을 한다고 생각할 수 있으므로 평균속력\n",
        "\n",
        "$$ \\bar v_k = \\frac{\\sqrt{2g(2-y_k)} + \\sqrt{2g(2-y_{k+1}})}{2} $$\n",
        "\n",
        "으로 운동한다고 할 수 있다.\n",
        "\n",
        "그러면 구간을 통과하는 시간은 근사적으로\n",
        "\n",
        "$$ t_k = \\frac{\\Delta s_k}{\\bar v_k} $$\n",
        "라 할 수 있다.\n",
        "\n",
        "그러면 전체 낙하 시간은\n",
        "\n",
        "$$t = \\sum_{k=0}^{n-1} t_k$$\n",
        "\n",
        "이다. 여기서 $y_k\\ (k = 1, \\dots, n-1)$를 랜덤하게 조금씩 변화시켜가며, 새로운 낙하시간이 기존의 낙하시간보다 짧으면 새로운 $y_k$값을 채택하여 경로를 갱신하고 그렇지 않으면 원래의 값으로 되돌린다.\n",
        "\n",
        "이런 과정을 여러 번 되풀이하면 경로의 모양은 가장 짧은 시간이 걸리는 경로의 모양에 가까와질 것으로 기대할 수 있다."
      ],
      "metadata": {
        "id": "dEKUlDkscf86"
      }
    },
    {
      "cell_type": "code",
      "source": [
        "#시작점과 끝점의 좌표\n",
        "xa, xb = 0, np.pi\n",
        "ya, yb = 2, 0\n",
        "\n",
        "n = 50\n",
        "#경로를 직선으로 초기화\n",
        "xs = np.linspace(xa, xb, n+1)\n",
        "ys = np.linspace(ya, yb, n+1)"
      ],
      "metadata": {
        "id": "iIT7D2MI13pY"
      },
      "execution_count": null,
      "outputs": []
    },
    {
      "cell_type": "code",
      "source": [
        "g = 9.8                    # 중력 가속도\n",
        "Dxs = np.diff(xs)          # dx : x의 차분 값\n",
        "Dxs2 = Dxs**2              # dx 의 제곱"
      ],
      "metadata": {
        "id": "PBpiyA_fnSpk"
      },
      "execution_count": null,
      "outputs": []
    },
    {
      "cell_type": "code",
      "source": [
        "def get_time(ys):\n",
        "  global g, ya, Dxs2\n",
        "  Dys = np.diff(ys)             # Δy\n",
        "  Dss = np.sqrt(Dxs**2 + Dys**2)  # Δs\n",
        "  Vs = np.sqrt(2 * g * (ya - ys)) # 높이 yk 에서의 속력\n",
        "  Vks = (Vs[:-1] + Vs[1:]) / 2  # k번째 구간의 평균 속력\n",
        "  Dts = Dss / Vks               # 구간 통과 시간\n",
        "  return Dts.sum()              # 전체 낙하 시간"
      ],
      "metadata": {
        "id": "L2TcHD6hhL3V"
      },
      "execution_count": null,
      "outputs": []
    },
    {
      "cell_type": "code",
      "source": [
        "T = get_time(ys)\n",
        "T"
      ],
      "metadata": {
        "colab": {
          "base_uri": "https://localhost:8080/",
          "height": 37
        },
        "id": "vT-RrWCAn3tT",
        "outputId": "b18ef774-deb0-4067-b943-c8e29f12e13c"
      },
      "execution_count": null,
      "outputs": [
        {
          "output_type": "execute_result",
          "data": {
            "text/plain": [
              "1.1896494253405914"
            ],
            "text/latex": "$\\displaystyle 1.18964942534059$"
          },
          "metadata": {},
          "execution_count": 25
        }
      ]
    },
    {
      "cell_type": "code",
      "source": [
        "def shake(ys):\n",
        "  global Trw, ya, R, xs\n",
        "  ysvar = np.copy(ys)\n",
        "  Tv = Trw\n",
        "  success = 0\n",
        "  for i in range(N):                 # N : 한 번의 \"흔들기\" 마다 시도 횟수\n",
        "    k = np.random.randint(1, n)      # k∈ [1... n-1] 번째 yk 하나를 랜덤하게 고른다.\n",
        "    ysk = ysvar[k]                   # 현재 값을 임시 저장\n",
        "\n",
        "    # yk를 일정한 범위 안에서 랜덤하게 변화시킨다(variation)\n",
        "    ysvar[k] = ysvar[k] + 2 * (np.random.rand() - 0.5) * np.sin(xs[k]) * R\n",
        "\n",
        "    if ysvar[k] > ya:\n",
        "      ysvar[k] = ysk   # 변화시킨 yk 값이 ya 보다 높으면 변화를 취소한다.\n",
        "    else:\n",
        "      Tnew = get_time(ysvar)   # 변화된 경로의 전체 낙하 시간\n",
        "      if Tnew < Tv:            # 시간이 짧아졌으면 변화된 경로 채택하고 낙하 시간을 갱신\n",
        "        success += 1\n",
        "        Tv = Tnew\n",
        "      else:\n",
        "        ysvar[k] = ysk       # 시간이 짧아지지 않았으면 변화를 기각\n",
        "\n",
        "  if success/N < 0.05:        # 최적화에 가까와짐: 변화폭을 줄인다.\n",
        "    R = R * 0.98\n",
        "  elif success/N > 0.3:       # 최적화에서 멂: 변화 폭을 늘린다.\n",
        "    R = R * 1.1\n",
        "\n",
        "  return Tv, ysvar             # N번의 시도 결과를 반환.\n"
      ],
      "metadata": {
        "id": "xsLafyfhnbDP"
      },
      "execution_count": null,
      "outputs": []
    },
    {
      "cell_type": "code",
      "source": [
        "ysv = np.copy(ys)\n",
        "Trw = T"
      ],
      "metadata": {
        "id": "Wpgry3_C1Q4H"
      },
      "execution_count": null,
      "outputs": []
    },
    {
      "cell_type": "code",
      "source": [
        "plt.axis(\"equal\")\n",
        "plt.grid()\n",
        "\n",
        "N = n\n",
        "ind = []\n",
        "times = []              # 각각의 경로를 따라 낙하하는 시간\n",
        "R = 5.0                 # 변화 폭\n",
        "for i in range(50000):\n",
        "  if R < 1e-6:          # 변화 폭이 매우 작음: 최적화에 가까와진 것으로 판단.\n",
        "    break\n",
        "  Tn, ysv = shake(ysv)\n",
        "  ind.append(i)\n",
        "  times.append(Tn)\n",
        "  Trw = Tn\n",
        "  if i % 500 == 0:\n",
        "    plt.plot(xs, ysv, c=\"gray\", alpha=0.5)\n",
        "\n",
        "plt.plot(xc, yc, c='b', label=\"Cycloid\")\n",
        "plt.plot(xs, ysv, \"r--\", label=\"Random Walked\")\n",
        "plt.legend()"
      ],
      "metadata": {
        "colab": {
          "base_uri": "https://localhost:8080/",
          "height": 449
        },
        "id": "zDMd10FOqwGk",
        "outputId": "978781f2-0475-4d9d-e475-7984d79323d0"
      },
      "execution_count": null,
      "outputs": [
        {
          "output_type": "execute_result",
          "data": {
            "text/plain": [
              "<matplotlib.legend.Legend at 0x7bad4d176c50>"
            ]
          },
          "metadata": {},
          "execution_count": 28
        },
        {
          "output_type": "display_data",
          "data": {
            "text/plain": [
              "<Figure size 640x480 with 1 Axes>"
            ],
            "image/png": "[encoded data removed]"
          },
          "metadata": {}
        }
      ]
    },
    {
      "cell_type": "code",
      "source": [
        "plt.grid()\n",
        "plt.ylim([0, 1.2])\n",
        "\n",
        "plt.xlabel('# of iterations')\n",
        "plt.ylabel('time [s]')\n",
        "plt.plot(ind, times)\n"
      ],
      "metadata": {
        "colab": {
          "base_uri": "https://localhost:8080/",
          "height": 474
        },
        "id": "Zcg1BNHewZTx",
        "outputId": "f7daee60-482b-44c5-8666-0f260c31609e"
      },
      "execution_count": null,
      "outputs": [
        {
          "output_type": "execute_result",
          "data": {
            "text/plain": [
              "[<matplotlib.lines.Line2D at 0x7bad2cc62dd0>]"
            ]
          },
          "metadata": {},
          "execution_count": 29
        },
        {
          "output_type": "display_data",
          "data": {
            "text/plain": [
              "<Figure size 640x480 with 1 Axes>"
            ],
            "image/png": "[encoded data removed]"
          },
          "metadata": {}
        }
      ]
    },
    {
      "cell_type": "code",
      "source": [
        "R   # 최종 변화 폭 확인"
      ],
      "metadata": {
        "colab": {
          "base_uri": "https://localhost:8080/",
          "height": 37
        },
        "id": "FtHAoWscA_xQ",
        "outputId": "b6e2d836-dd4e-48fe-fd34-6bfcbf16f321"
      },
      "execution_count": null,
      "outputs": [
        {
          "output_type": "execute_result",
          "data": {
            "text/plain": [
              "9.91561635828396e-07"
            ],
            "text/latex": "$\\displaystyle 9.91561635828396 \\cdot 10^{-7}$"
          },
          "metadata": {},
          "execution_count": 31
        }
      ]
    },
    {
      "cell_type": "code",
      "source": [
        "# Random Walk로 구한 경로의 시간\n",
        "Trw"
      ],
      "metadata": {
        "colab": {
          "base_uri": "https://localhost:8080/",
          "height": 37
        },
        "id": "8chd-agTq4RG",
        "outputId": "e91841b7-0a02-4423-c529-03a5142f04cf"
      },
      "execution_count": null,
      "outputs": [
        {
          "output_type": "execute_result",
          "data": {
            "text/plain": [
              "1.0052036565303253"
            ],
            "text/latex": "$\\displaystyle 1.00520365653033$"
          },
          "metadata": {},
          "execution_count": 32
        }
      ]
    },
    {
      "cell_type": "code",
      "source": [
        "# Cycloid\n",
        "tcyc"
      ],
      "metadata": {
        "colab": {
          "base_uri": "https://localhost:8080/",
          "height": 37
        },
        "id": "newYlPaMvcxg",
        "outputId": "e76f4800-9f86-4acf-8c84-6fde7e5374e5"
      },
      "execution_count": null,
      "outputs": [
        {
          "output_type": "execute_result",
          "data": {
            "text/plain": [
              "1.0035449615772465"
            ],
            "text/latex": "$\\displaystyle 1.00354496157725$"
          },
          "metadata": {},
          "execution_count": 33
        }
      ]
    },
    {
      "cell_type": "code",
      "source": [
        "# 최적화된 2차 함수\n",
        "Topt"
      ],
      "metadata": {
        "colab": {
          "base_uri": "https://localhost:8080/",
          "height": 37
        },
        "id": "nxAuCUdJ7GGU",
        "outputId": "444282aa-bcd4-4766-ce2e-7b97bee105d3"
      },
      "execution_count": null,
      "outputs": [
        {
          "output_type": "execute_result",
          "data": {
            "text/plain": [
              "1.0319411025538565"
            ],
            "text/latex": "$\\displaystyle 1.03194110255386$"
          },
          "metadata": {},
          "execution_count": 34
        }
      ]
    },
    {
      "cell_type": "code",
      "source": [
        "tcyc < Trw < Topt"
      ],
      "metadata": {
        "id": "pGX_sqUU-zIz",
        "colab": {
          "base_uri": "https://localhost:8080/"
        },
        "outputId": "90d8aca0-c44a-4801-fa2c-1b29fb1354c9"
      },
      "execution_count": null,
      "outputs": [
        {
          "output_type": "execute_result",
          "data": {
            "text/plain": [
              "True"
            ]
          },
          "metadata": {},
          "execution_count": 35
        }
      ]
    },
    {
      "cell_type": "code",
      "source": [],
      "metadata": {
        "id": "-Ls-i0pPsqK3"
      },
      "execution_count": null,
      "outputs": []
    }
  ]
}