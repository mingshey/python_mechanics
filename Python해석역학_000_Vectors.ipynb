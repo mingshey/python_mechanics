{
  "nbformat": 4,
  "nbformat_minor": 0,
  "metadata": {
    "colab": {
      "provenance": [],
      "authorship_tag": "ABX9TyOjbhMaxyIb1RUIhbV2mMYz",
      "include_colab_link": true
    },
    "kernelspec": {
      "name": "python3",
      "display_name": "Python 3"
    },
    "language_info": {
      "name": "python"
    }
  },
  "cells": [
    {
      "cell_type": "markdown",
      "metadata": {
        "id": "view-in-github",
        "colab_type": "text"
      },
      "source": [
        "<a href=\"https://colab.research.google.com/github/mingshey/python_mechanics/blob/main/Python%ED%95%B4%EC%84%9D%EC%97%AD%ED%95%99_000_Vectors.ipynb\" target=\"_parent\"><img src=\"https://colab.research.google.com/assets/colab-badge.svg\" alt=\"Open In Colab\"/></a>"
      ]
    },
    {
      "cell_type": "markdown",
      "source": [
        "# Analytical Mechanics with Python\n",
        "# 파이썬으로 코딩하는 해석역학\n",
        "## <Elective Tracks 2024 Summer Programme>"
      ],
      "metadata": {
        "id": "ImEjxxHINRwc"
      }
    },
    {
      "cell_type": "markdown",
      "source": [
        "## Chapter 1. Vectors"
      ],
      "metadata": {
        "id": "1x74ZWrLCI-p"
      }
    },
    {
      "cell_type": "code",
      "execution_count": null,
      "metadata": {
        "id": "OUbLle5FOaGE"
      },
      "outputs": [],
      "source": [
        "import numpy as np"
      ]
    },
    {
      "cell_type": "code",
      "source": [
        "u = np.array([1,2,3])\n",
        "v = np.array([4,5,7])"
      ],
      "metadata": {
        "id": "JYy5DXK9Oeu6"
      },
      "execution_count": null,
      "outputs": []
    },
    {
      "cell_type": "markdown",
      "source": [
        "부호 반전"
      ],
      "metadata": {
        "id": "Q2unbgShPGCa"
      }
    },
    {
      "cell_type": "code",
      "source": [
        "-u"
      ],
      "metadata": {
        "id": "2Wii9BtUO9gH"
      },
      "execution_count": null,
      "outputs": []
    },
    {
      "cell_type": "markdown",
      "source": [
        "벡터의 덧셈(합성, 원소끼리의 합)"
      ],
      "metadata": {
        "id": "TEff9Nw9PM7T"
      }
    },
    {
      "cell_type": "code",
      "source": [
        "u + v"
      ],
      "metadata": {
        "id": "CPnxRiyzPEcR"
      },
      "execution_count": null,
      "outputs": []
    },
    {
      "cell_type": "markdown",
      "source": [
        "벡터의 덧셈: 결합 법칙"
      ],
      "metadata": {
        "id": "Wiyd748ZDEvy"
      }
    },
    {
      "cell_type": "code",
      "source": [
        "w = np.array([10,30,20])"
      ],
      "metadata": {
        "id": "cSNFm4pZPk1w"
      },
      "execution_count": null,
      "outputs": []
    },
    {
      "cell_type": "code",
      "source": [
        "(u + v) + w"
      ],
      "metadata": {
        "id": "LJ5tzSluDLXC"
      },
      "execution_count": null,
      "outputs": []
    },
    {
      "cell_type": "code",
      "source": [
        "u + (v + w)"
      ],
      "metadata": {
        "id": "2KLlloKbDQbi"
      },
      "execution_count": null,
      "outputs": []
    },
    {
      "cell_type": "markdown",
      "source": [
        "벡터의 차(원소끼리의 뺄셈)"
      ],
      "metadata": {
        "id": "Vo4jesK2PXyZ"
      }
    },
    {
      "cell_type": "code",
      "source": [
        "u - v"
      ],
      "metadata": {
        "id": "Jsi0o_04DXgR"
      },
      "execution_count": null,
      "outputs": []
    },
    {
      "cell_type": "code",
      "source": [
        "u + (-v)"
      ],
      "metadata": {
        "id": "Of71jahZDaYC"
      },
      "execution_count": null,
      "outputs": []
    },
    {
      "cell_type": "markdown",
      "source": [
        "벡터의 상수 배"
      ],
      "metadata": {
        "id": "Y0coqEVoPACp"
      }
    },
    {
      "cell_type": "code",
      "source": [
        "3 * u"
      ],
      "metadata": {
        "id": "HLPU7aqzOsOd"
      },
      "execution_count": null,
      "outputs": []
    },
    {
      "cell_type": "markdown",
      "source": [
        "원소끼리의 곱"
      ],
      "metadata": {
        "id": "rznN3-MAOvIx"
      }
    },
    {
      "cell_type": "code",
      "source": [
        "u * v"
      ],
      "metadata": {
        "id": "ilVyRT_oOm72"
      },
      "execution_count": null,
      "outputs": []
    },
    {
      "cell_type": "markdown",
      "source": [
        "벡터의 내적(inner product, aka. \"dot\" product 도트 곱, scalar product 스칼라 곱)"
      ],
      "metadata": {
        "id": "ZVmOc-jLO2P5"
      }
    },
    {
      "cell_type": "code",
      "source": [
        "u[0]*v[0] + u[1]*v[1] + u[2]*v[2]"
      ],
      "metadata": {
        "id": "qkwIXpbF_WuM"
      },
      "execution_count": null,
      "outputs": []
    },
    {
      "cell_type": "code",
      "source": [
        "(u * v).sum()"
      ],
      "metadata": {
        "id": "wTVBWrLjCg-p"
      },
      "execution_count": null,
      "outputs": []
    },
    {
      "cell_type": "code",
      "source": [
        "u @ v"
      ],
      "metadata": {
        "id": "s49B9x7VOpKs"
      },
      "execution_count": null,
      "outputs": []
    },
    {
      "cell_type": "markdown",
      "source": [
        "(벡터의 내적의 결과는 스칼라이다.)"
      ],
      "metadata": {
        "id": "-coWl5H4QPmy"
      }
    },
    {
      "cell_type": "markdown",
      "source": [
        "벡터의 내적 : 교환 법칙"
      ],
      "metadata": {
        "id": "_2Y3Q-_tPmSK"
      }
    },
    {
      "cell_type": "code",
      "source": [
        "v @ u"
      ],
      "metadata": {
        "id": "7CLlbZfCPLne"
      },
      "execution_count": null,
      "outputs": []
    },
    {
      "cell_type": "markdown",
      "source": [
        "벡터의 내적 : 분배 법칙"
      ],
      "metadata": {
        "id": "1jdh4KefP03I"
      }
    },
    {
      "cell_type": "code",
      "source": [
        "w @ (u + v)"
      ],
      "metadata": {
        "id": "8BgwMPd3PztR"
      },
      "execution_count": null,
      "outputs": []
    },
    {
      "cell_type": "code",
      "source": [
        "w @ u + w @ v"
      ],
      "metadata": {
        "id": "qoi2ag2uQA0s"
      },
      "execution_count": null,
      "outputs": []
    },
    {
      "cell_type": "markdown",
      "source": [
        "벡터의 크기(노옴, norm)\n",
        "\n",
        "$$ \\left|A\\right|^2 = {\\bf A}\\cdot{\\bf A}$$"
      ],
      "metadata": {
        "id": "y-x0wLD5VwM4"
      }
    },
    {
      "cell_type": "code",
      "source": [
        "_usqr_ = u @ u\n",
        "_vsqr_ = v @ v\n",
        "print(f\"|u|^2 = {_usqr_:f}, |v|^2 = {_vsqr_:f}\")"
      ],
      "metadata": {
        "id": "lNP2jc32Vr8T"
      },
      "execution_count": null,
      "outputs": []
    },
    {
      "cell_type": "code",
      "source": [
        "_u_ = np.sqrt(u @ u)\n",
        "_v_ = np.sqrt(v @ v)\n",
        "print(f\"|u| = {_u_:f}, |v| = {_v_:f}\")"
      ],
      "metadata": {
        "id": "zTSOgWEoWMkh"
      },
      "execution_count": null,
      "outputs": []
    },
    {
      "cell_type": "code",
      "source": [
        "np.linalg.norm(u)"
      ],
      "metadata": {
        "id": "m_hGlRf6WUrx"
      },
      "execution_count": null,
      "outputs": []
    },
    {
      "cell_type": "code",
      "source": [
        "from numpy.linalg import norm"
      ],
      "metadata": {
        "id": "XztPeLcTWa-B"
      },
      "execution_count": null,
      "outputs": []
    },
    {
      "cell_type": "code",
      "source": [
        "u1 = np.array([1, 4])\n",
        "u2 = np.array([3, 1])"
      ],
      "metadata": {
        "id": "fNdar8DtQENp"
      },
      "execution_count": null,
      "outputs": []
    },
    {
      "cell_type": "markdown",
      "source": [
        "$$\\cos\\theta=\\frac{{\\mathbf A}\\cdot{\\mathbf B}}{\\left|A\\right|\\,\\left|B\\right|}$$"
      ],
      "metadata": {
        "id": "jY9L_zt_RfFL"
      }
    },
    {
      "cell_type": "code",
      "source": [
        "_u1_ = norm(u1)\n",
        "_u2_ = norm(u2)\n",
        "print(f\"|u1| = {_u1_:f}, |u2| = {_u2_:f}\")"
      ],
      "metadata": {
        "id": "4PijYCf7Qyqe"
      },
      "execution_count": null,
      "outputs": []
    },
    {
      "cell_type": "code",
      "source": [
        "# cos(theta)\n",
        "cth = u1 @ u2 / (_u1_ * _u2_)\n",
        "cth"
      ],
      "metadata": {
        "id": "OBkXDgklSSNt"
      },
      "execution_count": null,
      "outputs": []
    },
    {
      "cell_type": "code",
      "source": [
        "#theta = acos(cos(theta)) = alpha1 - alpha2\n",
        "theta = np.arccos(cth)\n",
        "print(f\"{theta:f}\")"
      ],
      "metadata": {
        "id": "an6LbLFNS0AF"
      },
      "execution_count": null,
      "outputs": []
    },
    {
      "cell_type": "code",
      "source": [
        "alpha1 = np.arctan2(u1[1], u1[0])\n",
        "alpha2 = np.arctan2(u2[1], u2[0])\n",
        "print(f\"{alpha1:f}, {alpha2:f}\")\n",
        "\n",
        "print(f\"{alpha1 - alpha2:f}\")"
      ],
      "metadata": {
        "id": "2sNLZNEuPCBL"
      },
      "execution_count": null,
      "outputs": []
    },
    {
      "cell_type": "code",
      "source": [
        "u"
      ],
      "metadata": {
        "id": "DJhRKkNsS1uh"
      },
      "execution_count": null,
      "outputs": []
    },
    {
      "cell_type": "code",
      "source": [
        "v"
      ],
      "metadata": {
        "id": "LEWOxJE5TvTP"
      },
      "execution_count": null,
      "outputs": []
    },
    {
      "cell_type": "code",
      "source": [
        "np.roll(u, 1)"
      ],
      "metadata": {
        "id": "uZG1NYZfTpOt"
      },
      "execution_count": null,
      "outputs": []
    },
    {
      "cell_type": "code",
      "source": [
        "np.roll(v, -1)"
      ],
      "metadata": {
        "id": "cDPWrJDeTsjs"
      },
      "execution_count": null,
      "outputs": []
    },
    {
      "cell_type": "code",
      "source": [
        "[u[1]*v[2]-u[2]*v[1], u[2]*v[0]-u[0]*v[2], u[0]*v[1]-u[1]*v[0]]"
      ],
      "metadata": {
        "id": "yPIlOi0g-6j1"
      },
      "execution_count": null,
      "outputs": []
    },
    {
      "cell_type": "markdown",
      "source": [
        "* 벡터의 외적(outer product, also, 크로스 곱 cross product, 벡터곱 vector product)\n",
        "\n",
        "$$ {\\bf A}\\times {\\bf B} = (A_y B_z - A_z B_y, \\space A_z B_x - A_x B_z, \\space A_x B_y - A_y B_x)$$\n",
        "\n",
        "벡터의 외적은 두 벡터가 이루는 평행사변형의 면적을 크기로 하고, 방향은 그 평행사변형에 수직이다. 두 벡터가 이루는 평면에 수직인 두 방향 중 오른손법칙으로 결정되는 방향이 외적의 방향이다. 즉 처음 벡터에서 두 번째 벡터쪽으로 오른손을 감아 쥘 때 엄지손가락을 편 방향이다."
      ],
      "metadata": {
        "id": "WhX1PC74awlw"
      }
    },
    {
      "cell_type": "code",
      "source": [
        "def mycross(u, v):\n",
        "  return np.roll(u, 2) * np.roll(v, 1) - np.roll(u, 1) * np.roll(v, 2)"
      ],
      "metadata": {
        "id": "Vqj3-rUvT0Hm"
      },
      "execution_count": null,
      "outputs": []
    },
    {
      "cell_type": "code",
      "source": [
        "mycross(u, v)"
      ],
      "metadata": {
        "id": "2iM3jM1zT_WH"
      },
      "execution_count": null,
      "outputs": []
    },
    {
      "cell_type": "markdown",
      "source": [
        "벡터의 외적은 교환 법칙이 성립하지 않으며, 순서를 바꾸면 부호가 반대로 바뀐다."
      ],
      "metadata": {
        "id": "AZZQ8fBcQUaY"
      }
    },
    {
      "cell_type": "code",
      "source": [
        "np.cross(u, v)"
      ],
      "metadata": {
        "id": "qJSYXi-rUmBZ"
      },
      "execution_count": null,
      "outputs": []
    },
    {
      "cell_type": "markdown",
      "source": [
        "$$ {\\bf A}\\times{\\bf B} = -{\\bf B}\\times{\\bf A} $$"
      ],
      "metadata": {
        "id": "muEdRbN8ThHg"
      }
    },
    {
      "cell_type": "code",
      "source": [
        "np.cross(v, u)"
      ],
      "metadata": {
        "id": "yCKkbfO6Vj7D"
      },
      "execution_count": null,
      "outputs": []
    },
    {
      "cell_type": "markdown",
      "source": [
        "* Triple Scalar Product (벡터의 삼중 스칼라 곱)\n",
        "\n",
        "$$ {\\bf A}\\cdot({\\bf B}\\times {\\bf C}) $$\n",
        "는 스칼라이고 그 값은 벡터 ${\\bf A}$ ${\\bf B}$, ${\\bf C}$가 세 모서리인 평행육면체의 부피이다.  \n",
        "<center><img src='https://drive.google.com/uc?export=download&id=1MD_cpF_0tfQ417cWhF5LIrg4LsLvufZ3' width=\"200\" height =\"\" />\n",
        "</center>\n",
        "\n",
        "$$\\begin{align}&{\\bf A}\\cdot({\\bf B}\\times {\\bf C})  \n",
        "= {\\bf B}\\cdot({\\bf C}\\times {\\bf A})\n",
        "= {\\bf C}\\cdot({\\bf A}\\times {\\bf B}) \\\\\n",
        "= - &{\\bf A}\\cdot({\\bf C}\\times {\\bf B})  \n",
        "= - {\\bf C}\\cdot({\\bf B}\\times {\\bf A})\n",
        "= - {\\bf B}\\cdot({\\bf A}\\times {\\bf C})\\end{align}$$"
      ],
      "metadata": {
        "id": "IDwpmidJVOB_"
      }
    },
    {
      "cell_type": "code",
      "source": [
        "u @ np.cross(v, w)"
      ],
      "metadata": {
        "id": "EnhrOGp9U4PJ"
      },
      "execution_count": null,
      "outputs": []
    },
    {
      "cell_type": "markdown",
      "source": [
        "(벡터의 스칼라3중곱의 결과는 스칼라이다.)"
      ],
      "metadata": {
        "id": "Jtjg_5RQosu6"
      }
    },
    {
      "cell_type": "code",
      "source": [
        "w @ np.cross(u, v)"
      ],
      "metadata": {
        "id": "e7f-2BeqVoiq"
      },
      "execution_count": null,
      "outputs": []
    },
    {
      "cell_type": "code",
      "source": [
        "v @ np.cross(w, u)"
      ],
      "metadata": {
        "id": "_-Qv1IIfVsQj"
      },
      "execution_count": null,
      "outputs": []
    },
    {
      "cell_type": "code",
      "source": [
        "u @ np.cross(w, v)"
      ],
      "metadata": {
        "id": "HzAWzmPpVv7w"
      },
      "execution_count": null,
      "outputs": []
    },
    {
      "cell_type": "markdown",
      "source": [
        "$$ {\\bf A}\\cdot({\\bf B}\\times {\\bf C}) = \\left|\\begin{array}{ccc}A_x & A_y & A_z \\\\\n",
        "B_x & B_y& B_z \\\\\n",
        "C_x& C_y&C_z\n",
        "\\end{array}\\right|$$\n"
      ],
      "metadata": {
        "id": "B3a-Tq1WEB_j"
      }
    },
    {
      "cell_type": "code",
      "source": [
        "np.array([u, v, w])"
      ],
      "metadata": {
        "id": "pHL0g20uEBRt"
      },
      "execution_count": null,
      "outputs": []
    },
    {
      "cell_type": "code",
      "source": [
        "np.linalg.det([u, v, w])"
      ],
      "metadata": {
        "id": "RuH1OP3xE9va"
      },
      "execution_count": null,
      "outputs": []
    },
    {
      "cell_type": "markdown",
      "source": [
        "* Triple Vector Product"
      ],
      "metadata": {
        "id": "oNAAm7iDV7-r"
      }
    },
    {
      "cell_type": "code",
      "source": [
        "np.cross(u, np.cross(v, w))"
      ],
      "metadata": {
        "id": "GmJSCjegVzEl"
      },
      "execution_count": null,
      "outputs": []
    },
    {
      "cell_type": "markdown",
      "source": [
        "(벡터의 벡터3중곱의 결과는 벡터이다.)"
      ],
      "metadata": {
        "id": "M329iY81o3qB"
      }
    },
    {
      "cell_type": "markdown",
      "source": [
        "* BAC-CAB rule\n",
        "\n",
        "$$ {\\mathbf A} \\times ({\\mathbf B} \\times {\\mathbf C}) = {\\mathbf B} ({\\mathbf A} \\cdot {\\mathbf C})-{\\mathbf C}  ({\\mathbf A} \\cdot {\\mathbf B})$$"
      ],
      "metadata": {
        "id": "IYp6FoH8WV--"
      }
    },
    {
      "cell_type": "code",
      "source": [
        "v * (u @ w) - w * (u @ v)"
      ],
      "metadata": {
        "id": "Kbcr3nTiV6Mr"
      },
      "execution_count": null,
      "outputs": []
    },
    {
      "cell_type": "code",
      "source": [
        "np.cross(w, np.cross(u, v))"
      ],
      "metadata": {
        "id": "FCKqOWGFAKRG"
      },
      "execution_count": null,
      "outputs": []
    },
    {
      "cell_type": "code",
      "source": [
        "np.cross(v, np.cross(w, u))"
      ],
      "metadata": {
        "id": "vZYmW-SjAP49"
      },
      "execution_count": null,
      "outputs": []
    },
    {
      "cell_type": "markdown",
      "source": [],
      "metadata": {
        "id": "9w-NwL9kW-we"
      }
    },
    {
      "cell_type": "code",
      "source": [
        "# 죄표의 회전에 따른 벡터 성분 표현의 변화를 나타내는 회전 행렬을 반환하는 함수들:\n",
        "# (동일한 벡터, 다른 좌표계)\n",
        "\n",
        "def Rx(angle):\n",
        "  c = np.cos(angle)\n",
        "  s = np.sin(angle)\n",
        "  \"\"\"\n",
        "  1   0   0\n",
        "  0   c   s\n",
        "  0  -s   c\n",
        "  \"\"\"\n",
        "  return np.array([[1, 0, 0], [0, c, s], [0, -s, c]])\n",
        "\n",
        "def Ry(angle):\n",
        "  c = np.cos(angle)\n",
        "  s = np.sin(angle)\n",
        "  \"\"\"\n",
        "  c   0  -s\n",
        "  0   1   0\n",
        "  s   0   c\n",
        "  \"\"\"\n",
        "  return np.array([[c, 0, -s], [0, 1, 0], [s, 0, c]])\n",
        "\n",
        "def Rz(angle):\n",
        "  c = np.cos(angle)\n",
        "  s = np.sin(angle)\n",
        "  \"\"\"\n",
        "  c   s   0\n",
        " -s   c   0\n",
        "  0   0   1\n",
        "  \"\"\"\n",
        "  return np.array([[c, s, 0], [-s, c, 0], [0, 0, 1]])\n"
      ],
      "metadata": {
        "id": "XNmqBfsvWNJX"
      },
      "execution_count": null,
      "outputs": []
    },
    {
      "cell_type": "code",
      "source": [
        "Rx(np.pi/4)"
      ],
      "metadata": {
        "id": "U-uFcokJYbZL"
      },
      "execution_count": null,
      "outputs": []
    },
    {
      "cell_type": "code",
      "source": [
        "Ry(np.pi/6)"
      ],
      "metadata": {
        "id": "_HHIcGDMYhJt"
      },
      "execution_count": null,
      "outputs": []
    },
    {
      "cell_type": "code",
      "source": [
        "Rz(np.pi/3)"
      ],
      "metadata": {
        "id": "VwYKgZSKYso1"
      },
      "execution_count": null,
      "outputs": []
    },
    {
      "cell_type": "markdown",
      "source": [
        "**Example 1.8.1**"
      ],
      "metadata": {
        "id": "V_s3KcayZcJG"
      }
    },
    {
      "cell_type": "code",
      "source": [
        "R = Rz(np.pi/4)\n",
        "\n",
        "A = np.array([3, 2, 1])"
      ],
      "metadata": {
        "id": "j-9vaQsSYwdz"
      },
      "execution_count": null,
      "outputs": []
    },
    {
      "cell_type": "code",
      "source": [
        "R @ A"
      ],
      "metadata": {
        "id": "PcKmD08gZHzC"
      },
      "execution_count": null,
      "outputs": []
    },
    {
      "cell_type": "markdown",
      "source": [
        "# Symbolic vector operations\n",
        "\n",
        "https://docs.sympy.org/latest/modules/vector/basics.html"
      ],
      "metadata": {
        "id": "4A5Wr-5itawN"
      }
    },
    {
      "cell_type": "code",
      "source": [
        "import sympy as sym"
      ],
      "metadata": {
        "id": "QHiH-3r7RaXS"
      },
      "execution_count": null,
      "outputs": []
    },
    {
      "cell_type": "code",
      "source": [
        "from sympy.vector import CoordSys3D\n",
        "N = CoordSys3D('N')"
      ],
      "metadata": {
        "id": "NJ0_eGjLsOgi"
      },
      "execution_count": null,
      "outputs": []
    },
    {
      "cell_type": "code",
      "source": [
        "N.i"
      ],
      "metadata": {
        "colab": {
          "base_uri": "https://localhost:8080/",
          "height": 38
        },
        "id": "wdXIpGRnsgMr",
        "outputId": "6acbe6f8-b5f1-467a-e957-6da0c4b59f5c"
      },
      "execution_count": null,
      "outputs": [
        {
          "output_type": "execute_result",
          "data": {
            "text/plain": [
              "N.i"
            ],
            "text/latex": "$\\displaystyle \\mathbf{\\hat{i}_{N}}$"
          },
          "metadata": {},
          "execution_count": 3
        }
      ]
    },
    {
      "cell_type": "code",
      "source": [
        "type(N.i)"
      ],
      "metadata": {
        "colab": {
          "base_uri": "https://localhost:8080/"
        },
        "id": "LE2vw9LSsiql",
        "outputId": "9592f45a-03d8-4a5b-c7b1-2ec5e78c09be"
      },
      "execution_count": null,
      "outputs": [
        {
          "output_type": "execute_result",
          "data": {
            "text/plain": [
              "sympy.vector.vector.BaseVector"
            ]
          },
          "metadata": {},
          "execution_count": 4
        }
      ]
    },
    {
      "cell_type": "code",
      "source": [
        "3*N.i"
      ],
      "metadata": {
        "colab": {
          "base_uri": "https://localhost:8080/",
          "height": 38
        },
        "id": "O5Hp3tAaslsP",
        "outputId": "e01d8668-8a55-4213-d371-ca97d1170945"
      },
      "execution_count": null,
      "outputs": [
        {
          "output_type": "execute_result",
          "data": {
            "text/plain": [
              "3*N.i"
            ],
            "text/latex": "$\\displaystyle \\left(3\\right)\\mathbf{\\hat{i}_{N}}$"
          },
          "metadata": {},
          "execution_count": 5
        }
      ]
    },
    {
      "cell_type": "code",
      "source": [
        "type(3*N.i)"
      ],
      "metadata": {
        "colab": {
          "base_uri": "https://localhost:8080/"
        },
        "id": "57CmxOZEso22",
        "outputId": "eed3f35f-16dd-46cb-da76-3a79ed6069e3"
      },
      "execution_count": null,
      "outputs": [
        {
          "output_type": "execute_result",
          "data": {
            "text/plain": [
              "sympy.vector.vector.VectorMul"
            ]
          },
          "metadata": {},
          "execution_count": 6
        }
      ]
    },
    {
      "cell_type": "code",
      "source": [
        "v = 2*N.i + N.j"
      ],
      "metadata": {
        "id": "pf2SmV7qspql"
      },
      "execution_count": null,
      "outputs": []
    },
    {
      "cell_type": "code",
      "source": [
        "type(v)"
      ],
      "metadata": {
        "colab": {
          "base_uri": "https://localhost:8080/"
        },
        "id": "XEvAVNZvsskV",
        "outputId": "23e228b2-0825-474b-9434-4778510a3d68"
      },
      "execution_count": null,
      "outputs": [
        {
          "output_type": "execute_result",
          "data": {
            "text/plain": [
              "sympy.vector.vector.VectorAdd"
            ]
          },
          "metadata": {},
          "execution_count": 8
        }
      ]
    },
    {
      "cell_type": "code",
      "source": [
        "v - N.j"
      ],
      "metadata": {
        "colab": {
          "base_uri": "https://localhost:8080/",
          "height": 38
        },
        "id": "4nvMnZXQsvG_",
        "outputId": "b45d3474-1c3f-4950-83c0-bc64373d3c23"
      },
      "execution_count": null,
      "outputs": [
        {
          "output_type": "execute_result",
          "data": {
            "text/plain": [
              "2*N.i"
            ],
            "text/latex": "$\\displaystyle \\left(2\\right)\\mathbf{\\hat{i}_{N}}$"
          },
          "metadata": {},
          "execution_count": 9
        }
      ]
    },
    {
      "cell_type": "code",
      "source": [
        "type(v - N.j)"
      ],
      "metadata": {
        "colab": {
          "base_uri": "https://localhost:8080/"
        },
        "id": "chyB6zffsxCg",
        "outputId": "9cab94ef-8005-4d37-8c7e-10581c8d44f9"
      },
      "execution_count": null,
      "outputs": [
        {
          "output_type": "execute_result",
          "data": {
            "text/plain": [
              "sympy.vector.vector.VectorMul"
            ]
          },
          "metadata": {},
          "execution_count": 10
        }
      ]
    },
    {
      "cell_type": "code",
      "source": [
        "from sympy.vector import Vector\n",
        "Vector.zero"
      ],
      "metadata": {
        "colab": {
          "base_uri": "https://localhost:8080/",
          "height": 37
        },
        "id": "B5CdjDyZszCw",
        "outputId": "324c8c94-4841-4e8f-c207-c16addea6b7c"
      },
      "execution_count": null,
      "outputs": [
        {
          "output_type": "execute_result",
          "data": {
            "text/plain": [
              "0"
            ],
            "text/latex": "$\\displaystyle \\mathbf{\\hat{0}}$"
          },
          "metadata": {},
          "execution_count": 11
        }
      ]
    },
    {
      "cell_type": "code",
      "source": [
        "type(Vector.zero)"
      ],
      "metadata": {
        "colab": {
          "base_uri": "https://localhost:8080/"
        },
        "id": "Q-sMp2yYs1rG",
        "outputId": "170e8961-abec-467f-93c8-2445927f5ee0"
      },
      "execution_count": null,
      "outputs": [
        {
          "output_type": "execute_result",
          "data": {
            "text/plain": [
              "sympy.vector.vector.VectorZero"
            ]
          },
          "metadata": {},
          "execution_count": 12
        }
      ]
    },
    {
      "cell_type": "code",
      "source": [
        "N.i + Vector.zero"
      ],
      "metadata": {
        "colab": {
          "base_uri": "https://localhost:8080/",
          "height": 38
        },
        "id": "pKH2P4lis31X",
        "outputId": "1dea8ac7-7228-4e9a-d410-c2cd80b0190a"
      },
      "execution_count": null,
      "outputs": [
        {
          "output_type": "execute_result",
          "data": {
            "text/plain": [
              "N.i"
            ],
            "text/latex": "$\\displaystyle \\mathbf{\\hat{i}_{N}}$"
          },
          "metadata": {},
          "execution_count": 13
        }
      ]
    },
    {
      "cell_type": "code",
      "source": [
        "Vector.zero == 2*Vector.zero"
      ],
      "metadata": {
        "colab": {
          "base_uri": "https://localhost:8080/"
        },
        "id": "oEQZ6TJFs59P",
        "outputId": "fec8a269-80d9-4340-ce5e-9a54b3011f38"
      },
      "execution_count": null,
      "outputs": [
        {
          "output_type": "execute_result",
          "data": {
            "text/plain": [
              "True"
            ]
          },
          "metadata": {},
          "execution_count": 14
        }
      ]
    },
    {
      "cell_type": "code",
      "source": [
        "v = N.i - 2*N.j"
      ],
      "metadata": {
        "id": "7-S6gClXs9X2"
      },
      "execution_count": null,
      "outputs": []
    },
    {
      "cell_type": "code",
      "source": [
        "v/3"
      ],
      "metadata": {
        "colab": {
          "base_uri": "https://localhost:8080/",
          "height": 58
        },
        "id": "C2GIfYWTtAGB",
        "outputId": "ce3624ef-b45e-4b41-cbc9-6acd69de3b73"
      },
      "execution_count": null,
      "outputs": [
        {
          "output_type": "execute_result",
          "data": {
            "text/plain": [
              "1/3*N.i + (-2/3)*N.j"
            ],
            "text/latex": "$\\displaystyle \\left(\\frac{1}{3}\\right)\\mathbf{\\hat{i}_{N}} + \\left(- \\frac{2}{3}\\right)\\mathbf{\\hat{j}_{N}}$"
          },
          "metadata": {},
          "execution_count": 16
        }
      ]
    },
    {
      "cell_type": "code",
      "source": [
        "v + N.k"
      ],
      "metadata": {
        "colab": {
          "base_uri": "https://localhost:8080/",
          "height": 38
        },
        "id": "gaEb0NvDtB4e",
        "outputId": "a33c0aad-919b-48de-d5fa-1be11b2711c2"
      },
      "execution_count": null,
      "outputs": [
        {
          "output_type": "execute_result",
          "data": {
            "text/plain": [
              "N.i + (-2)*N.j + N.k"
            ],
            "text/latex": "$\\displaystyle \\mathbf{\\hat{i}_{N}} + \\left(-2\\right)\\mathbf{\\hat{j}_{N}} + \\mathbf{\\hat{k}_{N}}$"
          },
          "metadata": {},
          "execution_count": 17
        }
      ]
    },
    {
      "cell_type": "code",
      "source": [
        "Vector.zero/2"
      ],
      "metadata": {
        "colab": {
          "base_uri": "https://localhost:8080/",
          "height": 37
        },
        "id": "kXl9y0uFtEO9",
        "outputId": "b019367a-cd31-434b-8dcc-68dbc1133568"
      },
      "execution_count": null,
      "outputs": [
        {
          "output_type": "execute_result",
          "data": {
            "text/plain": [
              "0"
            ],
            "text/latex": "$\\displaystyle \\mathbf{\\hat{0}}$"
          },
          "metadata": {},
          "execution_count": 18
        }
      ]
    },
    {
      "cell_type": "code",
      "source": [
        "(v/3)*4"
      ],
      "metadata": {
        "colab": {
          "base_uri": "https://localhost:8080/",
          "height": 58
        },
        "id": "q-ZthqAstGTS",
        "outputId": "93bc4a59-587b-40f9-a92a-836ce33864a1"
      },
      "execution_count": null,
      "outputs": [
        {
          "output_type": "execute_result",
          "data": {
            "text/plain": [
              "4/3*N.i + (-8/3)*N.j"
            ],
            "text/latex": "$\\displaystyle \\left(\\frac{4}{3}\\right)\\mathbf{\\hat{i}_{N}} + \\left(- \\frac{8}{3}\\right)\\mathbf{\\hat{j}_{N}}$"
          },
          "metadata": {},
          "execution_count": 19
        }
      ]
    },
    {
      "cell_type": "code",
      "source": [
        "v1 = 2*N.i + 3*N.j - N.k\n",
        "v2 = N.i - 4*N.j + N.k\n",
        "v1.dot(v2)"
      ],
      "metadata": {
        "colab": {
          "base_uri": "https://localhost:8080/",
          "height": 37
        },
        "id": "0r--nUJVtIHP",
        "outputId": "f5f70cb9-6ab6-4203-d53c-f029200f1534"
      },
      "execution_count": null,
      "outputs": [
        {
          "output_type": "execute_result",
          "data": {
            "text/plain": [
              "-11"
            ],
            "text/latex": "$\\displaystyle -11$"
          },
          "metadata": {},
          "execution_count": 20
        }
      ]
    },
    {
      "cell_type": "code",
      "source": [
        "v1.cross(v2)"
      ],
      "metadata": {
        "colab": {
          "base_uri": "https://localhost:8080/",
          "height": 38
        },
        "id": "MJUy56VhtKqx",
        "outputId": "b94b1bf7-29d7-4e27-8557-4c6b11d39c72"
      },
      "execution_count": null,
      "outputs": [
        {
          "output_type": "execute_result",
          "data": {
            "text/plain": [
              "(-1)*N.i + (-3)*N.j + (-11)*N.k"
            ],
            "text/latex": "$\\displaystyle - \\mathbf{\\hat{i}_{N}} + \\left(-3\\right)\\mathbf{\\hat{j}_{N}} + \\left(-11\\right)\\mathbf{\\hat{k}_{N}}$"
          },
          "metadata": {},
          "execution_count": 21
        }
      ]
    },
    {
      "cell_type": "code",
      "source": [
        "v2.cross(v1)"
      ],
      "metadata": {
        "colab": {
          "base_uri": "https://localhost:8080/",
          "height": 38
        },
        "id": "9jPdt7LutM6l",
        "outputId": "41ba357c-f0d1-4657-cffe-18ea6bcd2321"
      },
      "execution_count": null,
      "outputs": [
        {
          "output_type": "execute_result",
          "data": {
            "text/plain": [
              "N.i + 3*N.j + 11*N.k"
            ],
            "text/latex": "$\\displaystyle \\mathbf{\\hat{i}_{N}} + \\left(3\\right)\\mathbf{\\hat{j}_{N}} + \\left(11\\right)\\mathbf{\\hat{k}_{N}}$"
          },
          "metadata": {},
          "execution_count": 22
        }
      ]
    },
    {
      "cell_type": "code",
      "source": [
        "v1 & v2  # Dot product"
      ],
      "metadata": {
        "colab": {
          "base_uri": "https://localhost:8080/",
          "height": 37
        },
        "id": "O1eC-dNstPES",
        "outputId": "fa349a35-0229-413c-ee2a-229f8e2a6d39"
      },
      "execution_count": null,
      "outputs": [
        {
          "output_type": "execute_result",
          "data": {
            "text/plain": [
              "-11"
            ],
            "text/latex": "$\\displaystyle -11$"
          },
          "metadata": {},
          "execution_count": 23
        }
      ]
    },
    {
      "cell_type": "code",
      "source": [
        "v1 ^ v2  # Cross product"
      ],
      "metadata": {
        "colab": {
          "base_uri": "https://localhost:8080/",
          "height": 38
        },
        "id": "O_KL4g87tSNT",
        "outputId": "ada7056c-8064-47fe-b7ff-600bd4616cab"
      },
      "execution_count": null,
      "outputs": [
        {
          "output_type": "execute_result",
          "data": {
            "text/plain": [
              "(-1)*N.i + (-3)*N.j + (-11)*N.k"
            ],
            "text/latex": "$\\displaystyle - \\mathbf{\\hat{i}_{N}} + \\left(-3\\right)\\mathbf{\\hat{j}_{N}} + \\left(-11\\right)\\mathbf{\\hat{k}_{N}}$"
          },
          "metadata": {},
          "execution_count": 24
        }
      ]
    },
    {
      "cell_type": "code",
      "source": [
        "from sympy.abc import a, b, c\n",
        "from sympy import sin, cos, trigsimp, diff"
      ],
      "metadata": {
        "id": "p_sNFD2OtYPX"
      },
      "execution_count": null,
      "outputs": []
    },
    {
      "cell_type": "code",
      "source": [
        "v = (a*b + a*c + b**2 + b*c)*N.i + N.j\n",
        "v.factor()"
      ],
      "metadata": {
        "colab": {
          "base_uri": "https://localhost:8080/",
          "height": 40
        },
        "id": "CS8hng1JtiOs",
        "outputId": "e0d04e50-6b38-4608-d142-3383339b939f"
      },
      "execution_count": null,
      "outputs": [
        {
          "output_type": "execute_result",
          "data": {
            "text/plain": [
              "((a + b)*(b + c))*N.i + N.j"
            ],
            "text/latex": "$\\displaystyle \\left(\\left(a + b\\right) \\left(b + c\\right)\\right)\\mathbf{\\hat{i}_{N}} + \\mathbf{\\hat{j}_{N}}$"
          },
          "metadata": {},
          "execution_count": 26
        }
      ]
    },
    {
      "cell_type": "code",
      "source": [
        "v = (sin(a)**2 + cos(a)**2)*N.i - (2*cos(b)**2 - 1)*N.k\n",
        "trigsimp(v)"
      ],
      "metadata": {
        "colab": {
          "base_uri": "https://localhost:8080/",
          "height": 40
        },
        "id": "eav5mToztlIJ",
        "outputId": "19da927e-c173-4202-d735-7ea0c0d9f617"
      },
      "execution_count": null,
      "outputs": [
        {
          "output_type": "execute_result",
          "data": {
            "text/plain": [
              "N.i + (-cos(2*b))*N.k"
            ],
            "text/latex": "$\\displaystyle \\mathbf{\\hat{i}_{N}} + \\left(- \\cos{\\left(2 b \\right)}\\right)\\mathbf{\\hat{k}_{N}}$"
          },
          "metadata": {},
          "execution_count": 27
        }
      ]
    },
    {
      "cell_type": "code",
      "source": [
        "v.simplify()"
      ],
      "metadata": {
        "colab": {
          "base_uri": "https://localhost:8080/",
          "height": 40
        },
        "id": "R_rBB8C6tpE9",
        "outputId": "d9d25f12-c7e9-4520-f155-6f05121681f8"
      },
      "execution_count": null,
      "outputs": [
        {
          "output_type": "execute_result",
          "data": {
            "text/plain": [
              "N.i + (-cos(2*b))*N.k"
            ],
            "text/latex": "$\\displaystyle \\mathbf{\\hat{i}_{N}} + \\left(- \\cos{\\left(2 b \\right)}\\right)\\mathbf{\\hat{k}_{N}}$"
          },
          "metadata": {},
          "execution_count": 28
        }
      ]
    },
    {
      "cell_type": "code",
      "source": [
        "diff(v, b)"
      ],
      "metadata": {
        "colab": {
          "base_uri": "https://localhost:8080/",
          "height": 40
        },
        "id": "KI1fkbbAtrZD",
        "outputId": "0beea136-613b-4d22-91eb-279da05af8c8"
      },
      "execution_count": null,
      "outputs": [
        {
          "output_type": "execute_result",
          "data": {
            "text/plain": [
              "(4*sin(b)*cos(b))*N.k"
            ],
            "text/latex": "$\\displaystyle \\left(4 \\sin{\\left(b \\right)} \\cos{\\left(b \\right)}\\right)\\mathbf{\\hat{k}_{N}}$"
          },
          "metadata": {},
          "execution_count": 29
        }
      ]
    },
    {
      "cell_type": "code",
      "source": [
        "from sympy import Derivative\n",
        "Derivative(v, b).doit()"
      ],
      "metadata": {
        "colab": {
          "base_uri": "https://localhost:8080/",
          "height": 40
        },
        "id": "QYphe5aRtxSX",
        "outputId": "34fb257e-c374-426b-c114-f9884faf76ab"
      },
      "execution_count": null,
      "outputs": [
        {
          "output_type": "execute_result",
          "data": {
            "text/plain": [
              "(4*sin(b)*cos(b))*N.k"
            ],
            "text/latex": "$\\displaystyle \\left(4 \\sin{\\left(b \\right)} \\cos{\\left(b \\right)}\\right)\\mathbf{\\hat{k}_{N}}$"
          },
          "metadata": {},
          "execution_count": 30
        }
      ]
    },
    {
      "cell_type": "code",
      "source": [
        "from sympy import Integral\n",
        "v1 = a*N.i + sin(a)*N.j - N.k\n",
        "Integral(v1, a)"
      ],
      "metadata": {
        "colab": {
          "base_uri": "https://localhost:8080/",
          "height": 58
        },
        "id": "ASzWzloYt0NO",
        "outputId": "b2c07868-c616-49ef-9566-1bf0ac8137a7"
      },
      "execution_count": null,
      "outputs": [
        {
          "output_type": "execute_result",
          "data": {
            "text/plain": [
              "(Integral(a, a))*N.i + (Integral(sin(a), a))*N.j + (Integral(-1, a))*N.k"
            ],
            "text/latex": "$\\displaystyle \\left(\\int a\\, da\\right)\\mathbf{\\hat{i}_{N}} + \\left(\\int \\sin{\\left(a \\right)}\\, da\\right)\\mathbf{\\hat{j}_{N}} + \\left(\\int \\left(-1\\right)\\, da\\right)\\mathbf{\\hat{k}_{N}}$"
          },
          "metadata": {},
          "execution_count": 31
        }
      ]
    },
    {
      "cell_type": "code",
      "source": [
        "Integral(v1, a).doit()"
      ],
      "metadata": {
        "colab": {
          "base_uri": "https://localhost:8080/",
          "height": 58
        },
        "id": "x19NsvN0t4Tm",
        "outputId": "54fd040f-02fc-4e20-a5f2-7f944062b2fd"
      },
      "execution_count": null,
      "outputs": [
        {
          "output_type": "execute_result",
          "data": {
            "text/plain": [
              "a**2/2*N.i + (-cos(a))*N.j + (-a)*N.k"
            ],
            "text/latex": "$\\displaystyle \\left(\\frac{a^{2}}{2}\\right)\\mathbf{\\hat{i}_{N}} + \\left(- \\cos{\\left(a \\right)}\\right)\\mathbf{\\hat{j}_{N}} + \\left(- a\\right)\\mathbf{\\hat{k}_{N}}$"
          },
          "metadata": {},
          "execution_count": 32
        }
      ]
    },
    {
      "cell_type": "code",
      "source": [
        "from sympy.vector import CoordSys3D\n",
        "N = CoordSys3D('N')\n",
        "N.origin"
      ],
      "metadata": {
        "colab": {
          "base_uri": "https://localhost:8080/",
          "height": 39
        },
        "id": "uiAICMfxt6lt",
        "outputId": "497abe83-91bf-4134-9fb5-2ef707408e69"
      },
      "execution_count": null,
      "outputs": [
        {
          "output_type": "execute_result",
          "data": {
            "text/plain": [
              "N.origin"
            ],
            "text/latex": "$\\displaystyle \\operatorname{Point}\\left(N.origin, \\mathbf{\\hat{0}}\\right)$"
          },
          "metadata": {},
          "execution_count": 33
        }
      ]
    },
    {
      "cell_type": "code",
      "source": [
        "type(N.origin)"
      ],
      "metadata": {
        "colab": {
          "base_uri": "https://localhost:8080/"
        },
        "id": "p042swFbt9eT",
        "outputId": "8a29ee27-ddfc-4f95-9695-abeb3cec11f3"
      },
      "execution_count": null,
      "outputs": [
        {
          "output_type": "execute_result",
          "data": {
            "text/plain": [
              "sympy.vector.point.Point"
            ]
          },
          "metadata": {},
          "execution_count": 34
        }
      ]
    },
    {
      "cell_type": "code",
      "source": [
        "from sympy.abc import a, b, c\n",
        "P = N.origin.locate_new('P', a*N.i + b*N.j + c*N.k)\n",
        "Q = P.locate_new('Q', -b*N.j)"
      ],
      "metadata": {
        "id": "Ei5V_1ovuBAe"
      },
      "execution_count": null,
      "outputs": []
    },
    {
      "cell_type": "code",
      "source": [
        "P.position_wrt(Q)"
      ],
      "metadata": {
        "colab": {
          "base_uri": "https://localhost:8080/",
          "height": 40
        },
        "id": "yORRWbWauFLO",
        "outputId": "5f8a420c-cc7f-4237-a0bd-50a230b6fab9"
      },
      "execution_count": null,
      "outputs": [
        {
          "output_type": "execute_result",
          "data": {
            "text/plain": [
              "b*N.j"
            ],
            "text/latex": "$\\displaystyle \\left(b\\right)\\mathbf{\\hat{j}_{N}}$"
          },
          "metadata": {},
          "execution_count": 36
        }
      ]
    },
    {
      "cell_type": "code",
      "source": [
        "Q.position_wrt(N.origin)"
      ],
      "metadata": {
        "colab": {
          "base_uri": "https://localhost:8080/",
          "height": 40
        },
        "id": "DecpN6ORuHPB",
        "outputId": "30ac4fb9-a9a1-4983-8d0d-97b0df521939"
      },
      "execution_count": null,
      "outputs": [
        {
          "output_type": "execute_result",
          "data": {
            "text/plain": [
              "a*N.i + c*N.k"
            ],
            "text/latex": "$\\displaystyle \\left(a\\right)\\mathbf{\\hat{i}_{N}} + \\left(c\\right)\\mathbf{\\hat{k}_{N}}$"
          },
          "metadata": {},
          "execution_count": 37
        }
      ]
    },
    {
      "cell_type": "code",
      "source": [
        "Q.express_coordinates(N)"
      ],
      "metadata": {
        "colab": {
          "base_uri": "https://localhost:8080/"
        },
        "id": "ppAnQ2qDuI_e",
        "outputId": "766fb7f3-1b4c-4a8f-faa2-6d9ed4d2ed7f"
      },
      "execution_count": null,
      "outputs": [
        {
          "output_type": "execute_result",
          "data": {
            "text/plain": [
              "(a, 0, c)"
            ]
          },
          "metadata": {},
          "execution_count": 38
        }
      ]
    },
    {
      "cell_type": "code",
      "source": [
        "from sympy.vector import CoordSys3D\n",
        "N = CoordSys3D('N')\n",
        "N.i.outer(N.j)"
      ],
      "metadata": {
        "colab": {
          "base_uri": "https://localhost:8080/",
          "height": 47
        },
        "id": "ZQTtVvk8uLIp",
        "outputId": "3a75bd1d-06cc-45a7-e54b-593d378af389"
      },
      "execution_count": null,
      "outputs": [
        {
          "output_type": "execute_result",
          "data": {
            "text/plain": [
              "(N.i|N.j)"
            ],
            "text/latex": "$\\displaystyle \\left(\\mathbf{\\hat{i}_{N}}{\\middle|}\\mathbf{\\hat{j}_{N}}\\right)$"
          },
          "metadata": {},
          "execution_count": 39
        }
      ]
    },
    {
      "cell_type": "code",
      "source": [
        "N.i|N.j"
      ],
      "metadata": {
        "colab": {
          "base_uri": "https://localhost:8080/",
          "height": 47
        },
        "id": "MK6SNaV8uPGS",
        "outputId": "9d10a811-5c3c-415b-ef7b-ac24a3a3ae9a"
      },
      "execution_count": null,
      "outputs": [
        {
          "output_type": "execute_result",
          "data": {
            "text/plain": [
              "(N.i|N.j)"
            ],
            "text/latex": "$\\displaystyle \\left(\\mathbf{\\hat{i}_{N}}{\\middle|}\\mathbf{\\hat{j}_{N}}\\right)$"
          },
          "metadata": {},
          "execution_count": 40
        }
      ]
    },
    {
      "cell_type": "code",
      "source": [
        "dyad = N.i.outer(N.k)\n",
        "dyad*3"
      ],
      "metadata": {
        "colab": {
          "base_uri": "https://localhost:8080/",
          "height": 47
        },
        "id": "VxloDY5QuR71",
        "outputId": "9eaf01ac-8b33-44e2-f42b-87a27677f175"
      },
      "execution_count": null,
      "outputs": [
        {
          "output_type": "execute_result",
          "data": {
            "text/plain": [
              "3*(N.i|N.k)"
            ],
            "text/latex": "$\\displaystyle \\left(3\\right)\\left(\\mathbf{\\hat{i}_{N}}{\\middle|}\\mathbf{\\hat{k}_{N}}\\right)$"
          },
          "metadata": {},
          "execution_count": 41
        }
      ]
    },
    {
      "cell_type": "code",
      "source": [
        "dyad - dyad"
      ],
      "metadata": {
        "colab": {
          "base_uri": "https://localhost:8080/",
          "height": 37
        },
        "id": "K3a5tYsIuVFs",
        "outputId": "b0354c28-d2b6-40e4-cf37-c84f33ae8d74"
      },
      "execution_count": null,
      "outputs": [
        {
          "output_type": "execute_result",
          "data": {
            "text/plain": [
              "0"
            ],
            "text/latex": "$\\displaystyle (\\mathbf{\\hat{0}}|\\mathbf{\\hat{0}})$"
          },
          "metadata": {},
          "execution_count": 42
        }
      ]
    },
    {
      "cell_type": "code",
      "source": [
        "dyad + 2*(N.j|N.i)"
      ],
      "metadata": {
        "colab": {
          "base_uri": "https://localhost:8080/",
          "height": 47
        },
        "id": "b7Can5mPuXGr",
        "outputId": "0488375a-e676-40b9-b767-72acd7080db4"
      },
      "execution_count": null,
      "outputs": [
        {
          "output_type": "execute_result",
          "data": {
            "text/plain": [
              "(N.i|N.k) + 2*(N.j|N.i)"
            ],
            "text/latex": "$\\displaystyle \\left(\\mathbf{\\hat{i}_{N}}{\\middle|}\\mathbf{\\hat{k}_{N}}\\right) + \\left(2\\right)\\left(\\mathbf{\\hat{j}_{N}}{\\middle|}\\mathbf{\\hat{i}_{N}}\\right)$"
          },
          "metadata": {},
          "execution_count": 43
        }
      ]
    },
    {
      "cell_type": "code",
      "source": [
        "d = N.i.outer(N.j)\n",
        "d.dot(N.j|N.j)"
      ],
      "metadata": {
        "colab": {
          "base_uri": "https://localhost:8080/",
          "height": 47
        },
        "id": "E5RY_DB3uZA7",
        "outputId": "e53e7c98-b8e2-4cd9-d310-a86727fd83fe"
      },
      "execution_count": null,
      "outputs": [
        {
          "output_type": "execute_result",
          "data": {
            "text/plain": [
              "(N.i|N.j)"
            ],
            "text/latex": "$\\displaystyle \\left(\\mathbf{\\hat{i}_{N}}{\\middle|}\\mathbf{\\hat{j}_{N}}\\right)$"
          },
          "metadata": {},
          "execution_count": 44
        }
      ]
    },
    {
      "cell_type": "code",
      "source": [
        "d.dot(N.i)"
      ],
      "metadata": {
        "colab": {
          "base_uri": "https://localhost:8080/",
          "height": 37
        },
        "id": "2mji8H0uuhBZ",
        "outputId": "c9cee73c-206d-4fac-b2bf-04248657b0a6"
      },
      "execution_count": null,
      "outputs": [
        {
          "output_type": "execute_result",
          "data": {
            "text/plain": [
              "0"
            ],
            "text/latex": "$\\displaystyle \\mathbf{\\hat{0}}$"
          },
          "metadata": {},
          "execution_count": 45
        }
      ]
    },
    {
      "cell_type": "code",
      "source": [
        "d.dot(N.j)"
      ],
      "metadata": {
        "colab": {
          "base_uri": "https://localhost:8080/",
          "height": 38
        },
        "id": "Kb8shkREuk3C",
        "outputId": "be6671d9-b151-4aee-df51-93101b1e5115"
      },
      "execution_count": null,
      "outputs": [
        {
          "output_type": "execute_result",
          "data": {
            "text/plain": [
              "N.i"
            ],
            "text/latex": "$\\displaystyle \\mathbf{\\hat{i}_{N}}$"
          },
          "metadata": {},
          "execution_count": 46
        }
      ]
    },
    {
      "cell_type": "code",
      "source": [
        "N.i.dot(d)"
      ],
      "metadata": {
        "colab": {
          "base_uri": "https://localhost:8080/",
          "height": 38
        },
        "id": "8dj49-gMuq_Z",
        "outputId": "3e366281-fd26-402e-eb71-25c72dc489cb"
      },
      "execution_count": null,
      "outputs": [
        {
          "output_type": "execute_result",
          "data": {
            "text/plain": [
              "N.j"
            ],
            "text/latex": "$\\displaystyle \\mathbf{\\hat{j}_{N}}$"
          },
          "metadata": {},
          "execution_count": 47
        }
      ]
    },
    {
      "cell_type": "code",
      "source": [
        "N.k ^ d"
      ],
      "metadata": {
        "colab": {
          "base_uri": "https://localhost:8080/",
          "height": 47
        },
        "id": "YYZBKB7XutLB",
        "outputId": "a90bdfe4-eef0-4de3-c368-46cb4913e49b"
      },
      "execution_count": null,
      "outputs": [
        {
          "output_type": "execute_result",
          "data": {
            "text/plain": [
              "(N.j|N.j)"
            ],
            "text/latex": "$\\displaystyle \\left(\\mathbf{\\hat{j}_{N}}{\\middle|}\\mathbf{\\hat{j}_{N}}\\right)$"
          },
          "metadata": {},
          "execution_count": 48
        }
      ]
    },
    {
      "cell_type": "code",
      "source": [],
      "metadata": {
        "id": "m3OvRG0Kuvr3"
      },
      "execution_count": null,
      "outputs": []
    }
  ]
}