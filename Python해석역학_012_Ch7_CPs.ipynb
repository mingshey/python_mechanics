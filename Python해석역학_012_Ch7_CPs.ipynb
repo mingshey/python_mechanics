{
  "nbformat": 4,
  "nbformat_minor": 0,
  "metadata": {
    "colab": {
      "provenance": [],
      "authorship_tag": "ABX9TyMCb90Wa0+YVb/8bk2pp8K9",
      "include_colab_link": true
    },
    "kernelspec": {
      "name": "python3",
      "display_name": "Python 3"
    },
    "language_info": {
      "name": "python"
    }
  },
  "cells": [
    {
      "cell_type": "markdown",
      "metadata": {
        "id": "view-in-github",
        "colab_type": "text"
      },
      "source": [
        "<a href=\"https://colab.research.google.com/github/mingshey/python_mechanics/blob/main/Python%ED%95%B4%EC%84%9D%EC%97%AD%ED%95%99_012_Ch7_CPs.ipynb\" target=\"_parent\"><img src=\"https://colab.research.google.com/assets/colab-badge.svg\" alt=\"Open In Colab\"/></a>"
      ]
    },
    {
      "cell_type": "markdown",
      "source": [
        "# Analytical Mechanics with Python\n",
        "# 파이썬으로 코딩하는 해석역학\n",
        "## <Elective Tracks 2024 Summer Programme>"
      ],
      "metadata": {
        "id": "ImEjxxHINRwc"
      }
    },
    {
      "cell_type": "markdown",
      "source": [
        "# Ch 7. Computer Problems"
      ],
      "metadata": {
        "id": "iwlbk5tNC7b3"
      }
    },
    {
      "cell_type": "markdown",
      "source": [
        "## C7.1"
      ],
      "metadata": {
        "id": "d1TWoYQ_DAuc"
      }
    },
    {
      "cell_type": "code",
      "execution_count": null,
      "metadata": {
        "id": "mW06kR-etOHG"
      },
      "outputs": [],
      "source": [
        "import numpy as np\n",
        "from scipy.integrate import solve_ivp\n",
        "import matplotlib.pyplot as plt"
      ]
    },
    {
      "cell_type": "code",
      "source": [
        "k = 1\n",
        "b = 1\n",
        "m1 = m2 = 1\n",
        "c1 = k * b**2 / m1\n",
        "c2 = k * b**2 / m2\n",
        "\n",
        "def dSdt(t, S):\n",
        "  x1, y1, x2, y2, vx1, vy1, vx2, vy2 = S\n",
        "  rsqr = (x2 - x1)**2 + (y2 - y1)**2\n",
        "  r = np.sqrt(rsqr)\n",
        "  ex = (x2 - x1) / r\n",
        "  ey = (y2 - y1) / r\n",
        "\n",
        "  ax1 = c1 * -ex / rsqr\n",
        "  ay1 = c1 * -ey / rsqr\n",
        "  ax2 = c2 * ex / rsqr\n",
        "  ay2 = c2 * ey / rsqr\n",
        "\n",
        "  return np.array([vx1, vy1, vx2, vy2, ax1, ay1, ax2, ay2])"
      ],
      "metadata": {
        "id": "kMbdXpLJ4qjN"
      },
      "execution_count": null,
      "outputs": []
    },
    {
      "cell_type": "code",
      "source": [
        "tf = 3.0\n",
        "N = 1000\n",
        "tspan = (0.0, tf)\n",
        "teval = np.linspace(0.0, tf, N+1)\n",
        "dt = tf / N\n",
        "S0 = np.array([-10.0, 0.5, 0, -0.5, 10.0, 0.0, 0.0, 0.0])\n",
        "\n",
        "sol = solve_ivp(dSdt, tspan, S0, \"Radau\", teval, max_step=dt)"
      ],
      "metadata": {
        "id": "R1acM1ft6mos"
      },
      "execution_count": null,
      "outputs": []
    },
    {
      "cell_type": "code",
      "source": [
        "sol"
      ],
      "metadata": {
        "colab": {
          "base_uri": "https://localhost:8080/"
        },
        "id": "FUGjHffT7yvh",
        "outputId": "301cd9e2-839a-43f3-ec0a-d62048061eb3"
      },
      "execution_count": null,
      "outputs": [
        {
          "output_type": "execute_result",
          "data": {
            "text/plain": [
              "  message: The solver successfully reached the end of the integration interval.\n",
              "  success: True\n",
              "   status: 0\n",
              "        t: [ 0.000e+00  3.000e-03 ...  2.997e+00  3.000e+00]\n",
              "        y: [[-1.000e+01 -9.970e+00 ...  1.993e+01  1.996e+01]\n",
              "            [ 5.000e-01  5.000e-01 ...  8.956e-01  8.962e-01]\n",
              "            ...\n",
              "            [ 0.000e+00  2.964e-05 ... -9.765e-04 -9.839e-04]\n",
              "            [ 0.000e+00 -2.969e-06 ... -1.991e-01 -1.991e-01]]\n",
              "      sol: None\n",
              " t_events: None\n",
              " y_events: None\n",
              "     nfev: 7002\n",
              "     njev: 1\n",
              "      nlu: 2000"
            ]
          },
          "metadata": {},
          "execution_count": 4
        }
      ]
    },
    {
      "cell_type": "code",
      "source": [
        "# 두 입자 사이의 거리\n",
        "ds = np.sqrt((sol.y[0] - sol.y[1])**2 + (sol.y[2] - sol.y[3])**2)"
      ],
      "metadata": {
        "id": "vHv6bGeH71y9"
      },
      "execution_count": null,
      "outputs": []
    },
    {
      "cell_type": "code",
      "source": [
        "plt.grid()\n",
        "plt.plot(sol.t, ds)"
      ],
      "metadata": {
        "colab": {
          "base_uri": "https://localhost:8080/",
          "height": 453
        },
        "id": "AEkMYUCA8PI3",
        "outputId": "e8ded193-33f6-4249-ae23-389536c58883"
      },
      "execution_count": null,
      "outputs": [
        {
          "output_type": "execute_result",
          "data": {
            "text/plain": [
              "[<matplotlib.lines.Line2D at 0x7a01f66ad870>]"
            ]
          },
          "metadata": {},
          "execution_count": 7
        },
        {
          "output_type": "display_data",
          "data": {
            "text/plain": [
              "<Figure size 640x480 with 1 Axes>"
            ],
            "image/png": "[encoded data removed]"
          },
          "metadata": {}
        }
      ]
    },
    {
      "cell_type": "code",
      "source": [
        "np.where(ds>10.0)[0][:20]"
      ],
      "metadata": {
        "id": "T8Envbvo8SCd"
      },
      "execution_count": null,
      "outputs": []
    },
    {
      "cell_type": "code",
      "source": [
        "k = 691"
      ],
      "metadata": {
        "id": "V15vYsxdB_CX"
      },
      "execution_count": null,
      "outputs": []
    },
    {
      "cell_type": "code",
      "source": [
        "ds[k], sol.t[k]"
      ],
      "metadata": {
        "id": "Idk-M3Xe7kxl"
      },
      "execution_count": null,
      "outputs": []
    },
    {
      "cell_type": "code",
      "source": [
        "xs1, ys1, xs2, ys2, vxs1, vys1, vxs2, vys2 = sol.y"
      ],
      "metadata": {
        "id": "C1mbupiO8y0V"
      },
      "execution_count": null,
      "outputs": []
    },
    {
      "cell_type": "code",
      "source": [
        "plt.grid()\n",
        "plt.axis(\"equal\")\n",
        "plt.plot(xs1[:k], ys1[:k], label=\"m1\")\n",
        "plt.plot(xs2[:k], ys2[:k], label=\"m2\")"
      ],
      "metadata": {
        "id": "A-pRdkq19n-7"
      },
      "execution_count": null,
      "outputs": []
    },
    {
      "cell_type": "code",
      "source": [
        "alpha1 = np.arctan2(vys1[k], vxs1[k])\n",
        "alpha1"
      ],
      "metadata": {
        "id": "efngpdb992wB"
      },
      "execution_count": null,
      "outputs": []
    },
    {
      "cell_type": "code",
      "source": [
        "alpha2 = np.arctan2(vys2[k], vxs2[k])\n",
        "alpha2"
      ],
      "metadata": {
        "id": "kZx7Sqoh-QXC"
      },
      "execution_count": null,
      "outputs": []
    },
    {
      "cell_type": "code",
      "source": [
        "np.abs(alpha1) + np.abs(alpha2), np.pi/2"
      ],
      "metadata": {
        "id": "rIvgxNqm-b1P"
      },
      "execution_count": null,
      "outputs": []
    },
    {
      "cell_type": "code",
      "source": [
        "(alpha1 - alpha2)/ (np.pi/2)"
      ],
      "metadata": {
        "id": "KN41-acL-fGO"
      },
      "execution_count": null,
      "outputs": []
    },
    {
      "cell_type": "code",
      "source": [
        "O = np.zeros_like(sol.t)"
      ],
      "metadata": {
        "id": "RpB_XLYM-u0M"
      },
      "execution_count": null,
      "outputs": []
    },
    {
      "cell_type": "code",
      "source": [
        "plt.axis(\"equal\")\n",
        "plt.quiver(O[k], O[k], vxs1[k], vys1[k], scale_units='xy', angles = 'xy', scale=0)\n",
        "plt.quiver(O[k], O[k], vxs2[k], vys2[k], scale_units='xy', angles = 'xy', scale=0)"
      ],
      "metadata": {
        "id": "DGe1EauI-8W-"
      },
      "execution_count": null,
      "outputs": []
    },
    {
      "cell_type": "code",
      "source": [
        "pxs = m1*(vxs1 + vxs2)\n",
        "pys = m2*(vys1 + vys2)"
      ],
      "metadata": {
        "id": "N1SbT2NP_Fvj"
      },
      "execution_count": null,
      "outputs": []
    },
    {
      "cell_type": "code",
      "source": [
        "plt.plot(sol.t[:k], pxs[:k])\n",
        "plt.plot(sol.t[:k], pys[:k])"
      ],
      "metadata": {
        "id": "Cg7CULQWBaRd"
      },
      "execution_count": null,
      "outputs": []
    },
    {
      "cell_type": "code",
      "source": [
        "KE = 0.5 * m1*(vxs1**2 + vxs2**2) + 0.5 * m2*(vys1**2 + vys2**2)"
      ],
      "metadata": {
        "id": "O-GsJI-DApcX"
      },
      "execution_count": null,
      "outputs": []
    },
    {
      "cell_type": "code",
      "source": [
        "plt.plot(sol.t[:k], KE[:k])"
      ],
      "metadata": {
        "id": "SLI-gT8jA4sl"
      },
      "execution_count": null,
      "outputs": []
    },
    {
      "cell_type": "markdown",
      "source": [
        "## C7.2"
      ],
      "metadata": {
        "id": "WAy6LzF5DEDs"
      }
    },
    {
      "cell_type": "code",
      "source": [
        "import sympy as sym"
      ],
      "metadata": {
        "id": "dAYK30cxA-Mh"
      },
      "execution_count": null,
      "outputs": []
    },
    {
      "cell_type": "code",
      "source": [
        "x, y, alpha= sym.symbols(r\"x y \\alpha\")"
      ],
      "metadata": {
        "id": "tsPCDbPsFoeF"
      },
      "execution_count": null,
      "outputs": []
    },
    {
      "cell_type": "code",
      "source": [
        "r1 = sym.sqrt((x - alpha)**2 + y**2)\n",
        "r2 = sym.sqrt((x + 1 - alpha)**2 + y**2)"
      ],
      "metadata": {
        "id": "hr4kROnBFwVh"
      },
      "execution_count": null,
      "outputs": []
    },
    {
      "cell_type": "code",
      "source": [
        "Phi = -(1-alpha) / r1 - alpha / r2 - (x**2 + y**2) / 2\n",
        "Phi"
      ],
      "metadata": {
        "id": "_nnmX7EGGCf3"
      },
      "execution_count": null,
      "outputs": []
    },
    {
      "cell_type": "code",
      "source": [
        "phif = sym.lambdify([[x, y]], -Phi.subs({alpha:0.000953875}))"
      ],
      "metadata": {
        "id": "7FxGFZc8DuB-"
      },
      "execution_count": null,
      "outputs": []
    },
    {
      "cell_type": "code",
      "source": [
        "from scipy.optimize import minimize"
      ],
      "metadata": {
        "id": "Hi6Ni8glEbMZ"
      },
      "execution_count": null,
      "outputs": []
    },
    {
      "cell_type": "code",
      "source": [
        "sol = minimize(phif, np.array([-0.5, 1]))"
      ],
      "metadata": {
        "id": "gz0LeePcEqTL"
      },
      "execution_count": null,
      "outputs": []
    },
    {
      "cell_type": "code",
      "source": [
        "sol"
      ],
      "metadata": {
        "id": "Cv_lTyPSE2nT"
      },
      "execution_count": null,
      "outputs": []
    },
    {
      "cell_type": "code",
      "source": [
        "sol.fun"
      ],
      "metadata": {
        "id": "yqnHJtFUGUa0"
      },
      "execution_count": null,
      "outputs": []
    },
    {
      "cell_type": "code",
      "source": [
        "sol.x"
      ],
      "metadata": {
        "id": "BQwIveffGXqL"
      },
      "execution_count": null,
      "outputs": []
    },
    {
      "cell_type": "code",
      "source": [
        "np.arctan2(sol.x[1], sol.x[0]) / (np.pi)"
      ],
      "metadata": {
        "id": "VPaXJbiJGYiD"
      },
      "execution_count": null,
      "outputs": []
    },
    {
      "cell_type": "markdown",
      "source": [
        "## C7.3\n",
        "\n",
        "$$m \\frac{d\\bf v}{dt}-{\\bf V} \\frac{dm}{dt} = {\\bf F}_{ext}$$"
      ],
      "metadata": {
        "id": "62CqnHcSNF3l"
      }
    },
    {
      "cell_type": "markdown",
      "source": [
        "### (a) no air resistance, constant $g$\n",
        "\n",
        "\n",
        "$$m \\frac{d\\bf v}{dt}-{\\bf V} \\frac{dm}{dt} = m{\\bf g}$$"
      ],
      "metadata": {
        "id": "Ys7MvIrlNbyN"
      }
    },
    {
      "cell_type": "code",
      "source": [
        "g0 = 9.8     # [m/s^2]\n",
        "m0 = 2e6     # [kg] initial mass\n",
        "dmdt = 1.8e4 # [kg/s] exhaust rate\n",
        "V = 3e3      # [m/s] exhaust speed"
      ],
      "metadata": {
        "id": "v_kZC3s6MDx4"
      },
      "execution_count": null,
      "outputs": []
    },
    {
      "cell_type": "code",
      "source": [
        "# exhaust time\n",
        "tf = 0.9 * m0 / dmdt\n",
        "tf"
      ],
      "metadata": {
        "id": "t_TUEV_IR8ak"
      },
      "execution_count": null,
      "outputs": []
    },
    {
      "cell_type": "code",
      "source": [
        "def dSdt_a(t, S):\n",
        "  m, y, v = S\n",
        "  dvdt = V * dmdt / m - g0\n",
        "  return np.array([-dmdt, v, dvdt])"
      ],
      "metadata": {
        "id": "F3poBzEfSwD5"
      },
      "execution_count": null,
      "outputs": []
    },
    {
      "cell_type": "code",
      "source": [
        "S0 = (m0, 0.0, 0.0)\n",
        "tspan = (0.0, tf)\n",
        "N=1000\n",
        "dt = tf/(10*N)\n",
        "teval = np.linspace(0, tf, N+1)\n",
        "\n",
        "sol_a = solve_ivp(dSdt_a, tspan, S0, \"RK45\", teval, max_step=dt)"
      ],
      "metadata": {
        "id": "_itRc9ZGTtYC"
      },
      "execution_count": null,
      "outputs": []
    },
    {
      "cell_type": "code",
      "source": [
        "sol_a"
      ],
      "metadata": {
        "id": "JfVbV48OUiOZ"
      },
      "execution_count": null,
      "outputs": []
    },
    {
      "cell_type": "code",
      "source": [
        "h_max = sol_a.y[1, -1]\n",
        "km = 1000\n",
        "print(f\"Max height = {h_max/km:.2f} km\")"
      ],
      "metadata": {
        "id": "iRzNRfy_UvIR"
      },
      "execution_count": null,
      "outputs": []
    },
    {
      "cell_type": "code",
      "source": [
        "plt.grid()\n",
        "plt.plot(sol_a.t, sol_a.y[1], label=\"y(t)\")\n",
        "plt.xlabel(\"t [s]\")\n",
        "plt.ylabel(\"y [m]\")\n",
        "plt.legend()"
      ],
      "metadata": {
        "id": "UCekSMLzbuRZ"
      },
      "execution_count": null,
      "outputs": []
    },
    {
      "cell_type": "code",
      "source": [
        "plt.grid()\n",
        "plt.plot(sol_a.t, sol_a.y[2], label=\"vy(t)\")\n",
        "plt.xlabel(\"t [s]\")\n",
        "plt.ylabel(\"vy [m/s]\")\n",
        "plt.legend()"
      ],
      "metadata": {
        "id": "ojJ7KK5rb58b"
      },
      "execution_count": null,
      "outputs": []
    },
    {
      "cell_type": "markdown",
      "source": [
        "### (b) Quadratic air drag and varying gravity\n",
        "\n",
        "$$F(v) = -c_2 v \\left| v \\right|$$\n",
        "\n",
        "$$ c_2 (y) =c_2 (0) \\exp ^{-y/H}$$\n",
        "\n",
        "$$g(y) = \\frac{9.8}{(1+y/R_E)^2} {\\rm m/s^2}$$\n",
        "\n",
        "with $c_2 (0) = 0.22 D^2$, $D=0.5{\\rm m}$, and $H=8{\\  \\rm km}$."
      ],
      "metadata": {
        "id": "9RKTCS7UOjrx"
      }
    },
    {
      "cell_type": "code",
      "source": [
        "D = 0.5 # [m]\n",
        "c2_0 = 0.22 * D**2\n",
        "H = 8e3 # [m]\n",
        "RE = 6.37e6 # [m] average radius of Earth\n",
        "\n",
        "def c2(y):\n",
        "  return c2_0 * np.exp(y/H)\n",
        "\n",
        "def FD(y, v):\n",
        "  return -c2(y) * v * np.abs(v)\n",
        "\n",
        "def g(y):\n",
        "  return 9.8 / (1 + y / RE)**2"
      ],
      "metadata": {
        "id": "-fgPqtOFOvkW"
      },
      "execution_count": null,
      "outputs": []
    },
    {
      "cell_type": "code",
      "source": [
        "def dSdt_b(t, S):\n",
        "  m, y, v = S\n",
        "  dvdt = V * dmdt / m - g(y) + FD(y, v) / m\n",
        "  return np.array([-dmdt, v, dvdt])"
      ],
      "metadata": {
        "id": "_TZP4QYlR0oK"
      },
      "execution_count": null,
      "outputs": []
    },
    {
      "cell_type": "code",
      "source": [
        "sol_b = solve_ivp(dSdt_b, tspan, S0, \"RK45\", teval, max_step=dt)"
      ],
      "metadata": {
        "id": "j8WASnywVxGC"
      },
      "execution_count": null,
      "outputs": []
    },
    {
      "cell_type": "code",
      "source": [
        "sol_b"
      ],
      "metadata": {
        "id": "kDUoewD8V4T5"
      },
      "execution_count": null,
      "outputs": []
    },
    {
      "cell_type": "code",
      "source": [
        "h_max_b = sol_b.y[1, -1]\n",
        "print(f\"Max height = {h_max_b/km:.2f} km\")"
      ],
      "metadata": {
        "id": "D0SiyzOQV5s4"
      },
      "execution_count": null,
      "outputs": []
    },
    {
      "cell_type": "code",
      "source": [
        "plt.grid()\n",
        "plt.plot(sol_b.t, sol_b.y[1], label=\"y(t)\")\n",
        "plt.xlabel(\"t [s]\")\n",
        "plt.ylabel(\"y [m]\")\n",
        "plt.legend()"
      ],
      "metadata": {
        "id": "PtaegRbtcUYl"
      },
      "execution_count": null,
      "outputs": []
    },
    {
      "cell_type": "code",
      "source": [
        "plt.grid()\n",
        "plt.plot(sol_b.t, sol_b.y[2], label=\"vy(t)\")\n",
        "plt.xlabel(\"t [s]\")\n",
        "plt.ylabel(\"vy [m/s]\")\n",
        "plt.legend()"
      ],
      "metadata": {
        "id": "zOJiVSRJcUYm"
      },
      "execution_count": null,
      "outputs": []
    },
    {
      "cell_type": "code",
      "source": [
        "vf = sol_b.y[2,-1]\n",
        "vf"
      ],
      "metadata": {
        "id": "aIB-egnRWCcj"
      },
      "execution_count": null,
      "outputs": []
    },
    {
      "cell_type": "code",
      "source": [
        "plt.grid()\n",
        "plt.plot(sol_b.t[:-1], np.diff(sol_b.y[2])/np.diff(sol_b.t), label=\"ay(t)\")\n",
        "plt.axhline(0, c='k')\n",
        "plt.xlabel(\"t [s]\")\n",
        "plt.ylabel(\"ay [m/s^2]\")\n",
        "plt.legend()"
      ],
      "metadata": {
        "id": "PAYhfT00r2_b"
      },
      "execution_count": null,
      "outputs": []
    },
    {
      "cell_type": "code",
      "source": [],
      "metadata": {
        "id": "Cecb4mHYsNns"
      },
      "execution_count": null,
      "outputs": []
    }
  ]
}