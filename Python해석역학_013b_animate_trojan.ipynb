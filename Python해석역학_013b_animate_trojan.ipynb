{
  "cells": [
    {
      "cell_type": "markdown",
      "metadata": {
        "id": "view-in-github",
        "colab_type": "text"
      },
      "source": [
        "<a href=\"https://colab.research.google.com/github/mingshey/python_mechanics/blob/main/Python%ED%95%B4%EC%84%9D%EC%97%AD%ED%95%99_013b_animate_trojan.ipynb\" target=\"_parent\"><img src=\"https://colab.research.google.com/assets/colab-badge.svg\" alt=\"Open In Colab\"/></a>"
      ]
    },
    {
      "cell_type": "code",
      "source": [
        "from google.colab import drive\n",
        "drive.mount('/content/drive')"
      ],
      "metadata": {
        "id": "_KsV7mM1oa99",
        "colab": {
          "base_uri": "https://localhost:8080/"
        },
        "outputId": "996e7c7b-85d4-4755-ca03-a4d7901caae1"
      },
      "execution_count": null,
      "outputs": [
        {
          "output_type": "stream",
          "name": "stdout",
          "text": [
            "Drive already mounted at /content/drive; to attempt to forcibly remount, call drive.mount(\"/content/drive\", force_remount=True).\n"
          ]
        }
      ]
    },
    {
      "cell_type": "markdown",
      "source": [
        "# Analytical Mechanics with Python\n",
        "# 파이썬으로 코딩하는 해석역학\n",
        "## <Elective Tracks 2024 Summer Programme>"
      ],
      "metadata": {
        "id": "ImEjxxHINRwc"
      }
    },
    {
      "cell_type": "code",
      "execution_count": null,
      "metadata": {
        "id": "b_9PDlZOrWil"
      },
      "outputs": [],
      "source": [
        "import pandas as pd\n",
        "import matplotlib.pyplot as plt\n",
        "import math\n",
        "import numpy as np"
      ]
    },
    {
      "cell_type": "code",
      "execution_count": null,
      "metadata": {
        "id": "TcXX4PnyApLo"
      },
      "outputs": [],
      "source": [
        "df = pd.read_csv('/content/drive/MyDrive/0.Temp/py-trojan0.99vJ_rot.csv', sep=',')"
      ]
    },
    {
      "cell_type": "code",
      "source": [
        "df"
      ],
      "metadata": {
        "id": "FIJW9yv1tk93",
        "colab": {
          "base_uri": "https://localhost:8080/",
          "height": 617
        },
        "outputId": "57904f60-a1f9-4b2c-aaea-a0f49bd7eb3a"
      },
      "execution_count": null,
      "outputs": [
        {
          "output_type": "execute_result",
          "data": {
            "text/plain": [
              "                   t         rotxS         rotyS         rotxJ         rotyJ  \\\n",
              "0       0.000000e+00 -7.387597e+08 -3.385104e-14  7.772612e+11 -3.385104e-14   \n",
              "1       3.000000e+05 -7.387598e+08  1.396984e-09  7.772613e+11  4.768372e-07   \n",
              "2       6.000000e+05 -7.387598e+08  2.793968e-09  7.772613e+11  9.536743e-07   \n",
              "3       9.000000e+05 -7.387598e+08  3.725290e-09  7.772613e+11  0.000000e+00   \n",
              "4       1.200000e+06 -7.387599e+08  1.117587e-08  7.772614e+11  0.000000e+00   \n",
              "...              ...           ...           ...           ...           ...   \n",
              "99996   2.999880e+10 -7.387801e+08  1.190275e-03  7.772827e+11  1.220703e-03   \n",
              "99997   2.999910e+10 -7.387810e+08  1.202732e-03  7.772836e+11  1.220703e-03   \n",
              "99998   2.999940e+10 -7.387820e+08  1.215190e-03  7.772846e+11  1.190186e-03   \n",
              "99999   2.999970e+10 -7.387829e+08  1.227528e-03  7.772856e+11  1.220703e-03   \n",
              "100000  3.000000e+10 -7.387839e+08  1.239926e-03  7.772866e+11  1.251221e-03   \n",
              "\n",
              "               rotxT         rotyT  \n",
              "0       3.882612e+11  6.737678e+11  \n",
              "1       3.882951e+11  6.737480e+11  \n",
              "2       3.883288e+11  6.737279e+11  \n",
              "3       3.883623e+11  6.737075e+11  \n",
              "4       3.883955e+11  6.736868e+11  \n",
              "...              ...           ...  \n",
              "99996   4.726695e+10  7.803668e+11  \n",
              "99997   4.732234e+10  7.804377e+11  \n",
              "99998   4.737845e+10  7.805084e+11  \n",
              "99999   4.743526e+10  7.805789e+11  \n",
              "100000  4.749278e+10  7.806491e+11  \n",
              "\n",
              "[100001 rows x 7 columns]"
            ],
            "text/html": [
              "\n",
              "  <div id=\"df-051d2118-8941-40dd-9b11-f7b9e0ce28e5\" class=\"colab-df-container\">\n",
              "    <div>\n",
              "<style scoped>\n",
              "    .dataframe tbody tr th:only-of-type {\n",
              "        vertical-align: middle;\n",
              "    }\n",
              "\n",
              "    .dataframe tbody tr th {\n",
              "        vertical-align: top;\n",
              "    }\n",
              "\n",
              "    .dataframe thead th {\n",
              "        text-align: right;\n",
              "    }\n",
              "</style>\n",
              "<table border=\"1\" class=\"dataframe\">\n",
              "  <thead>\n",
              "    <tr style=\"text-align: right;\">\n",
              "      <th></th>\n",
              "      <th>t</th>\n",
              "      <th>rotxS</th>\n",
              "      <th>rotyS</th>\n",
              "      <th>rotxJ</th>\n",
              "      <th>rotyJ</th>\n",
              "      <th>rotxT</th>\n",
              "      <th>rotyT</th>\n",
              "    </tr>\n",
              "  </thead>\n",
              "  <tbody>\n",
              "    <tr>\n",
              "      <th>0</th>\n",
              "      <td>0.000000e+00</td>\n",
              "      <td>-7.387597e+08</td>\n",
              "      <td>-3.385104e-14</td>\n",
              "      <td>7.772612e+11</td>\n",
              "      <td>-3.385104e-14</td>\n",
              "      <td>3.882612e+11</td>\n",
              "      <td>6.737678e+11</td>\n",
              "    </tr>\n",
              "    <tr>\n",
              "      <th>1</th>\n",
              "      <td>3.000000e+05</td>\n",
              "      <td>-7.387598e+08</td>\n",
              "      <td>1.396984e-09</td>\n",
              "      <td>7.772613e+11</td>\n",
              "      <td>4.768372e-07</td>\n",
              "      <td>3.882951e+11</td>\n",
              "      <td>6.737480e+11</td>\n",
              "    </tr>\n",
              "    <tr>\n",
              "      <th>2</th>\n",
              "      <td>6.000000e+05</td>\n",
              "      <td>-7.387598e+08</td>\n",
              "      <td>2.793968e-09</td>\n",
              "      <td>7.772613e+11</td>\n",
              "      <td>9.536743e-07</td>\n",
              "      <td>3.883288e+11</td>\n",
              "      <td>6.737279e+11</td>\n",
              "    </tr>\n",
              "    <tr>\n",
              "      <th>3</th>\n",
              "      <td>9.000000e+05</td>\n",
              "      <td>-7.387598e+08</td>\n",
              "      <td>3.725290e-09</td>\n",
              "      <td>7.772613e+11</td>\n",
              "      <td>0.000000e+00</td>\n",
              "      <td>3.883623e+11</td>\n",
              "      <td>6.737075e+11</td>\n",
              "    </tr>\n",
              "    <tr>\n",
              "      <th>4</th>\n",
              "      <td>1.200000e+06</td>\n",
              "      <td>-7.387599e+08</td>\n",
              "      <td>1.117587e-08</td>\n",
              "      <td>7.772614e+11</td>\n",
              "      <td>0.000000e+00</td>\n",
              "      <td>3.883955e+11</td>\n",
              "      <td>6.736868e+11</td>\n",
              "    </tr>\n",
              "    <tr>\n",
              "      <th>...</th>\n",
              "      <td>...</td>\n",
              "      <td>...</td>\n",
              "      <td>...</td>\n",
              "      <td>...</td>\n",
              "      <td>...</td>\n",
              "      <td>...</td>\n",
              "      <td>...</td>\n",
              "    </tr>\n",
              "    <tr>\n",
              "      <th>99996</th>\n",
              "      <td>2.999880e+10</td>\n",
              "      <td>-7.387801e+08</td>\n",
              "      <td>1.190275e-03</td>\n",
              "      <td>7.772827e+11</td>\n",
              "      <td>1.220703e-03</td>\n",
              "      <td>4.726695e+10</td>\n",
              "      <td>7.803668e+11</td>\n",
              "    </tr>\n",
              "    <tr>\n",
              "      <th>99997</th>\n",
              "      <td>2.999910e+10</td>\n",
              "      <td>-7.387810e+08</td>\n",
              "      <td>1.202732e-03</td>\n",
              "      <td>7.772836e+11</td>\n",
              "      <td>1.220703e-03</td>\n",
              "      <td>4.732234e+10</td>\n",
              "      <td>7.804377e+11</td>\n",
              "    </tr>\n",
              "    <tr>\n",
              "      <th>99998</th>\n",
              "      <td>2.999940e+10</td>\n",
              "      <td>-7.387820e+08</td>\n",
              "      <td>1.215190e-03</td>\n",
              "      <td>7.772846e+11</td>\n",
              "      <td>1.190186e-03</td>\n",
              "      <td>4.737845e+10</td>\n",
              "      <td>7.805084e+11</td>\n",
              "    </tr>\n",
              "    <tr>\n",
              "      <th>99999</th>\n",
              "      <td>2.999970e+10</td>\n",
              "      <td>-7.387829e+08</td>\n",
              "      <td>1.227528e-03</td>\n",
              "      <td>7.772856e+11</td>\n",
              "      <td>1.220703e-03</td>\n",
              "      <td>4.743526e+10</td>\n",
              "      <td>7.805789e+11</td>\n",
              "    </tr>\n",
              "    <tr>\n",
              "      <th>100000</th>\n",
              "      <td>3.000000e+10</td>\n",
              "      <td>-7.387839e+08</td>\n",
              "      <td>1.239926e-03</td>\n",
              "      <td>7.772866e+11</td>\n",
              "      <td>1.251221e-03</td>\n",
              "      <td>4.749278e+10</td>\n",
              "      <td>7.806491e+11</td>\n",
              "    </tr>\n",
              "  </tbody>\n",
              "</table>\n",
              "<p>100001 rows × 7 columns</p>\n",
              "</div>\n",
              "    <div class=\"colab-df-buttons\">\n",
              "\n",
              "  <div class=\"colab-df-container\">\n",
              "    <button class=\"colab-df-convert\" onclick=\"convertToInteractive('df-051d2118-8941-40dd-9b11-f7b9e0ce28e5')\"\n",
              "            title=\"Convert this dataframe to an interactive table.\"\n",
              "            style=\"display:none;\">\n",
              "\n",
              "  <svg xmlns=\"http://www.w3.org/2000/svg\" height=\"24px\" viewBox=\"0 -960 960 960\">\n",
              "    <path d=\"M120-120v-720h720v720H120Zm60-500h600v-160H180v160Zm220 220h160v-160H400v160Zm0 220h160v-160H400v160ZM180-400h160v-160H180v160Zm440 0h160v-160H620v160ZM180-180h160v-160H180v160Zm440 0h160v-160H620v160Z\"/>\n",
              "  </svg>\n",
              "    </button>\n",
              "\n",
              "  <style>\n",
              "    .colab-df-container {\n",
              "      display:flex;\n",
              "      gap: 12px;\n",
              "    }\n",
              "\n",
              "    .colab-df-convert {\n",
              "      background-color: #E8F0FE;\n",
              "      border: none;\n",
              "      border-radius: 50%;\n",
              "      cursor: pointer;\n",
              "      display: none;\n",
              "      fill: #1967D2;\n",
              "      height: 32px;\n",
              "      padding: 0 0 0 0;\n",
              "      width: 32px;\n",
              "    }\n",
              "\n",
              "    .colab-df-convert:hover {\n",
              "      background-color: #E2EBFA;\n",
              "      box-shadow: 0px 1px 2px rgba(60, 64, 67, 0.3), 0px 1px 3px 1px rgba(60, 64, 67, 0.15);\n",
              "      fill: #174EA6;\n",
              "    }\n",
              "\n",
              "    .colab-df-buttons div {\n",
              "      margin-bottom: 4px;\n",
              "    }\n",
              "\n",
              "    [theme=dark] .colab-df-convert {\n",
              "      background-color: #3B4455;\n",
              "      fill: #D2E3FC;\n",
              "    }\n",
              "\n",
              "    [theme=dark] .colab-df-convert:hover {\n",
              "      background-color: #434B5C;\n",
              "      box-shadow: 0px 1px 3px 1px rgba(0, 0, 0, 0.15);\n",
              "      filter: drop-shadow(0px 1px 2px rgba(0, 0, 0, 0.3));\n",
              "      fill: #FFFFFF;\n",
              "    }\n",
              "  </style>\n",
              "\n",
              "    <script>\n",
              "      const buttonEl =\n",
              "        document.querySelector('#df-051d2118-8941-40dd-9b11-f7b9e0ce28e5 button.colab-df-convert');\n",
              "      buttonEl.style.display =\n",
              "        google.colab.kernel.accessAllowed ? 'block' : 'none';\n",
              "\n",
              "      async function convertToInteractive(key) {\n",
              "        const element = document.querySelector('#df-051d2118-8941-40dd-9b11-f7b9e0ce28e5');\n",
              "        const dataTable =\n",
              "          await google.colab.kernel.invokeFunction('convertToInteractive',\n",
              "                                                    [key], {});\n",
              "        if (!dataTable) return;\n",
              "\n",
              "        const docLinkHtml = 'Like what you see? Visit the ' +\n",
              "          '<a target=\"_blank\" href=https://colab.research.google.com/notebooks/data_table.ipynb>data table notebook</a>'\n",
              "          + ' to learn more about interactive tables.';\n",
              "        element.innerHTML = '';\n",
              "        dataTable['output_type'] = 'display_data';\n",
              "        await google.colab.output.renderOutput(dataTable, element);\n",
              "        const docLink = document.createElement('div');\n",
              "        docLink.innerHTML = docLinkHtml;\n",
              "        element.appendChild(docLink);\n",
              "      }\n",
              "    </script>\n",
              "  </div>\n",
              "\n",
              "\n",
              "<div id=\"df-d4b485e6-11c2-4ca8-bf78-5d37d7c429b7\">\n",
              "  <button class=\"colab-df-quickchart\" onclick=\"quickchart('df-d4b485e6-11c2-4ca8-bf78-5d37d7c429b7')\"\n",
              "            title=\"Suggest charts\"\n",
              "            style=\"display:none;\">\n",
              "\n",
              "<svg xmlns=\"http://www.w3.org/2000/svg\" height=\"24px\"viewBox=\"0 0 24 24\"\n",
              "     width=\"24px\">\n",
              "    <g>\n",
              "        <path d=\"M19 3H5c-1.1 0-2 .9-2 2v14c0 1.1.9 2 2 2h14c1.1 0 2-.9 2-2V5c0-1.1-.9-2-2-2zM9 17H7v-7h2v7zm4 0h-2V7h2v10zm4 0h-2v-4h2v4z\"/>\n",
              "    </g>\n",
              "</svg>\n",
              "  </button>\n",
              "\n",
              "<style>\n",
              "  .colab-df-quickchart {\n",
              "      --bg-color: #E8F0FE;\n",
              "      --fill-color: #1967D2;\n",
              "      --hover-bg-color: #E2EBFA;\n",
              "      --hover-fill-color: #174EA6;\n",
              "      --disabled-fill-color: #AAA;\n",
              "      --disabled-bg-color: #DDD;\n",
              "  }\n",
              "\n",
              "  [theme=dark] .colab-df-quickchart {\n",
              "      --bg-color: #3B4455;\n",
              "      --fill-color: #D2E3FC;\n",
              "      --hover-bg-color: #434B5C;\n",
              "      --hover-fill-color: #FFFFFF;\n",
              "      --disabled-bg-color: #3B4455;\n",
              "      --disabled-fill-color: #666;\n",
              "  }\n",
              "\n",
              "  .colab-df-quickchart {\n",
              "    background-color: var(--bg-color);\n",
              "    border: none;\n",
              "    border-radius: 50%;\n",
              "    cursor: pointer;\n",
              "    display: none;\n",
              "    fill: var(--fill-color);\n",
              "    height: 32px;\n",
              "    padding: 0;\n",
              "    width: 32px;\n",
              "  }\n",
              "\n",
              "  .colab-df-quickchart:hover {\n",
              "    background-color: var(--hover-bg-color);\n",
              "    box-shadow: 0 1px 2px rgba(60, 64, 67, 0.3), 0 1px 3px 1px rgba(60, 64, 67, 0.15);\n",
              "    fill: var(--button-hover-fill-color);\n",
              "  }\n",
              "\n",
              "  .colab-df-quickchart-complete:disabled,\n",
              "  .colab-df-quickchart-complete:disabled:hover {\n",
              "    background-color: var(--disabled-bg-color);\n",
              "    fill: var(--disabled-fill-color);\n",
              "    box-shadow: none;\n",
              "  }\n",
              "\n",
              "  .colab-df-spinner {\n",
              "    border: 2px solid var(--fill-color);\n",
              "    border-color: transparent;\n",
              "    border-bottom-color: var(--fill-color);\n",
              "    animation:\n",
              "      spin 1s steps(1) infinite;\n",
              "  }\n",
              "\n",
              "  @keyframes spin {\n",
              "    0% {\n",
              "      border-color: transparent;\n",
              "      border-bottom-color: var(--fill-color);\n",
              "      border-left-color: var(--fill-color);\n",
              "    }\n",
              "    20% {\n",
              "      border-color: transparent;\n",
              "      border-left-color: var(--fill-color);\n",
              "      border-top-color: var(--fill-color);\n",
              "    }\n",
              "    30% {\n",
              "      border-color: transparent;\n",
              "      border-left-color: var(--fill-color);\n",
              "      border-top-color: var(--fill-color);\n",
              "      border-right-color: var(--fill-color);\n",
              "    }\n",
              "    40% {\n",
              "      border-color: transparent;\n",
              "      border-right-color: var(--fill-color);\n",
              "      border-top-color: var(--fill-color);\n",
              "    }\n",
              "    60% {\n",
              "      border-color: transparent;\n",
              "      border-right-color: var(--fill-color);\n",
              "    }\n",
              "    80% {\n",
              "      border-color: transparent;\n",
              "      border-right-color: var(--fill-color);\n",
              "      border-bottom-color: var(--fill-color);\n",
              "    }\n",
              "    90% {\n",
              "      border-color: transparent;\n",
              "      border-bottom-color: var(--fill-color);\n",
              "    }\n",
              "  }\n",
              "</style>\n",
              "\n",
              "  <script>\n",
              "    async function quickchart(key) {\n",
              "      const quickchartButtonEl =\n",
              "        document.querySelector('#' + key + ' button');\n",
              "      quickchartButtonEl.disabled = true;  // To prevent multiple clicks.\n",
              "      quickchartButtonEl.classList.add('colab-df-spinner');\n",
              "      try {\n",
              "        const charts = await google.colab.kernel.invokeFunction(\n",
              "            'suggestCharts', [key], {});\n",
              "      } catch (error) {\n",
              "        console.error('Error during call to suggestCharts:', error);\n",
              "      }\n",
              "      quickchartButtonEl.classList.remove('colab-df-spinner');\n",
              "      quickchartButtonEl.classList.add('colab-df-quickchart-complete');\n",
              "    }\n",
              "    (() => {\n",
              "      let quickchartButtonEl =\n",
              "        document.querySelector('#df-d4b485e6-11c2-4ca8-bf78-5d37d7c429b7 button');\n",
              "      quickchartButtonEl.style.display =\n",
              "        google.colab.kernel.accessAllowed ? 'block' : 'none';\n",
              "    })();\n",
              "  </script>\n",
              "</div>\n",
              "\n",
              "  <div id=\"id_8513989b-64b8-400a-bcf1-530b1e9d76b3\">\n",
              "    <style>\n",
              "      .colab-df-generate {\n",
              "        background-color: #E8F0FE;\n",
              "        border: none;\n",
              "        border-radius: 50%;\n",
              "        cursor: pointer;\n",
              "        display: none;\n",
              "        fill: #1967D2;\n",
              "        height: 32px;\n",
              "        padding: 0 0 0 0;\n",
              "        width: 32px;\n",
              "      }\n",
              "\n",
              "      .colab-df-generate:hover {\n",
              "        background-color: #E2EBFA;\n",
              "        box-shadow: 0px 1px 2px rgba(60, 64, 67, 0.3), 0px 1px 3px 1px rgba(60, 64, 67, 0.15);\n",
              "        fill: #174EA6;\n",
              "      }\n",
              "\n",
              "      [theme=dark] .colab-df-generate {\n",
              "        background-color: #3B4455;\n",
              "        fill: #D2E3FC;\n",
              "      }\n",
              "\n",
              "      [theme=dark] .colab-df-generate:hover {\n",
              "        background-color: #434B5C;\n",
              "        box-shadow: 0px 1px 3px 1px rgba(0, 0, 0, 0.15);\n",
              "        filter: drop-shadow(0px 1px 2px rgba(0, 0, 0, 0.3));\n",
              "        fill: #FFFFFF;\n",
              "      }\n",
              "    </style>\n",
              "    <button class=\"colab-df-generate\" onclick=\"generateWithVariable('df')\"\n",
              "            title=\"Generate code using this dataframe.\"\n",
              "            style=\"display:none;\">\n",
              "\n",
              "  <svg xmlns=\"http://www.w3.org/2000/svg\" height=\"24px\"viewBox=\"0 0 24 24\"\n",
              "       width=\"24px\">\n",
              "    <path d=\"M7,19H8.4L18.45,9,17,7.55,7,17.6ZM5,21V16.75L18.45,3.32a2,2,0,0,1,2.83,0l1.4,1.43a1.91,1.91,0,0,1,.58,1.4,1.91,1.91,0,0,1-.58,1.4L9.25,21ZM18.45,9,17,7.55Zm-12,3A5.31,5.31,0,0,0,4.9,8.1,5.31,5.31,0,0,0,1,6.5,5.31,5.31,0,0,0,4.9,4.9,5.31,5.31,0,0,0,6.5,1,5.31,5.31,0,0,0,8.1,4.9,5.31,5.31,0,0,0,12,6.5,5.46,5.46,0,0,0,6.5,12Z\"/>\n",
              "  </svg>\n",
              "    </button>\n",
              "    <script>\n",
              "      (() => {\n",
              "      const buttonEl =\n",
              "        document.querySelector('#id_8513989b-64b8-400a-bcf1-530b1e9d76b3 button.colab-df-generate');\n",
              "      buttonEl.style.display =\n",
              "        google.colab.kernel.accessAllowed ? 'block' : 'none';\n",
              "\n",
              "      buttonEl.onclick = () => {\n",
              "        google.colab.notebook.generateWithVariable('df');\n",
              "      }\n",
              "      })();\n",
              "    </script>\n",
              "  </div>\n",
              "\n",
              "    </div>\n",
              "  </div>\n"
            ],
            "application/vnd.google.colaboratory.intrinsic+json": {
              "type": "dataframe",
              "variable_name": "df"
            }
          },
          "metadata": {},
          "execution_count": 5
        }
      ]
    },
    {
      "cell_type": "code",
      "source": [
        "import matplotlib.animation as anim\n",
        "from matplotlib.animation import PillowWriter"
      ],
      "metadata": {
        "id": "rk1XtU7MzEAc"
      },
      "execution_count": null,
      "outputs": []
    },
    {
      "cell_type": "code",
      "execution_count": null,
      "metadata": {
        "id": "78bgPZKXsVrN"
      },
      "outputs": [],
      "source": [
        "ts = np.array(df[\"t\"])"
      ]
    },
    {
      "cell_type": "code",
      "execution_count": null,
      "metadata": {
        "id": "9NwZoyuUscEj",
        "colab": {
          "base_uri": "https://localhost:8080/"
        },
        "outputId": "79af0ca3-0a9f-42e6-806c-16e8651de6b8"
      },
      "outputs": [
        {
          "output_type": "execute_result",
          "data": {
            "text/plain": [
              "100001"
            ]
          },
          "metadata": {},
          "execution_count": 8
        }
      ],
      "source": [
        "n = len(ts)\n",
        "n"
      ]
    },
    {
      "cell_type": "code",
      "execution_count": null,
      "metadata": {
        "id": "rzkz7VeMiZvP",
        "colab": {
          "base_uri": "https://localhost:8080/"
        },
        "outputId": "7ca8c48c-5741-4111-aaf7-9881436070b6"
      },
      "outputs": [
        {
          "output_type": "execute_result",
          "data": {
            "text/plain": [
              "30000000000.0"
            ]
          },
          "metadata": {},
          "execution_count": 9
        }
      ],
      "source": [
        "tbound = ts[-1]\n",
        "tbound"
      ]
    },
    {
      "cell_type": "code",
      "execution_count": null,
      "metadata": {
        "id": "_hYRyZAbyfuA"
      },
      "outputs": [],
      "source": [
        "xA = np.array(df[\"rotxS\"])\n",
        "yA = np.array(df[\"rotyS\"])\n",
        "xB = np.array(df[\"rotxJ\"])\n",
        "yB = np.array(df[\"rotyJ\"])\n",
        "xC = np.array(df[\"rotxT\"])\n",
        "yC = np.array(df[\"rotyT\"])"
      ]
    },
    {
      "cell_type": "code",
      "source": [
        "type(xA)"
      ],
      "metadata": {
        "colab": {
          "base_uri": "https://localhost:8080/"
        },
        "id": "a36HwvJhmLu8",
        "outputId": "e4518fa6-f4fd-452f-e1d5-e8f7d34df313"
      },
      "execution_count": null,
      "outputs": [
        {
          "output_type": "execute_result",
          "data": {
            "text/plain": [
              "numpy.ndarray"
            ]
          },
          "metadata": {},
          "execution_count": 23
        }
      ]
    },
    {
      "cell_type": "code",
      "source": [
        "sr = 100  # sampling rate\n",
        "\n",
        "tss = ts[::sr]\n",
        "xAs = xA[::sr]\n",
        "yAs = yA[::sr]\n",
        "xBs = xB[::sr]\n",
        "yBs = yB[::sr]\n",
        "xCs = xC[::sr]\n",
        "yCs = yC[::sr]\n",
        "\n",
        "Ns = len(tss)"
      ],
      "metadata": {
        "id": "z_NoSMKUo6U4"
      },
      "execution_count": null,
      "outputs": []
    },
    {
      "cell_type": "code",
      "source": [
        "type(tss)"
      ],
      "metadata": {
        "colab": {
          "base_uri": "https://localhost:8080/"
        },
        "id": "ANxrnOMEmXch",
        "outputId": "bf2060cc-c204-4789-f8ff-aa3469c6d00a"
      },
      "execution_count": null,
      "outputs": [
        {
          "output_type": "execute_result",
          "data": {
            "text/plain": [
              "numpy.ndarray"
            ]
          },
          "metadata": {},
          "execution_count": 29
        }
      ]
    },
    {
      "cell_type": "code",
      "execution_count": null,
      "metadata": {
        "id": "CpvEc0Vqzemo"
      },
      "outputs": [],
      "source": [
        "day = 24 * 60 * 60\n",
        "year = 365.2422 * day\n",
        "km = 1000 # 1 km = 1000 m\n",
        "k = 50\n",
        "\n",
        "def frame(n):\n",
        "  # 화면 초기화: 이전 프레임 그림 청소\n",
        "  ax.cla()\n",
        "  nstart = np.max([0, n-k])\n",
        "\n",
        "  # 플로팅 영역 고정\n",
        "  ax.set_xlim([-.1e9, 1.1e9])\n",
        "  ax.set_ylim([-.1e9, 1.1e9])\n",
        "\n",
        "  # 제목 행: 파라미터 및 시간 정보 표시\n",
        "  ax.set_title(f'Trojan object, Rot. coords. [v0 = 0.99vJ]: @ {tss[n]/year:.1f} Yrs.')\n",
        "\n",
        "  # 격자선\n",
        "  ax.grid()\n",
        "\n",
        "  # 전체 궤적\n",
        "  ax.plot(xCs[:n+1]/km, yCs[:n+1]/km, \\\n",
        "          color = 'blue', alpha=0.2)\n",
        "\n",
        "  # 최근 궤적\n",
        "  ax.plot(xCs[nstart:n+1]/km, yCs[nstart:n+1]/km, \\\n",
        "          color = 'blue', alpha=0.5)\n",
        "\n",
        "  # 천체의 현 위치\n",
        "  ax.plot(xAs[n]/km, yAs[n]/km, color = 'red', marker='o', label=\"Sun\")\n",
        "  ax.plot(xBs[n]/km, yBs[n]/km, color = 'darkgreen', marker='o', label=\"Jupiter\")\n",
        "  ax.plot(xCs[n]/km, yCs[n]/km, color = 'blue', marker='o', label=\"Trojan\")\n",
        "\n",
        "  # 축 라벨\n",
        "  ax.set_xlabel('x [km]', fontsize = 14)\n",
        "  ax.set_ylabel('y [km]', fontsize = 14)\n",
        "\n",
        "  # 범례\n",
        "  ax.legend()"
      ]
    },
    {
      "cell_type": "code",
      "source": [
        "fig, ax = plt.subplots(1, 1, figsize=(6,6))\n",
        "plt.axis(\"equal\")\n",
        "frame(1000)"
      ],
      "metadata": {
        "id": "tC6QsQM-0XCj",
        "colab": {
          "base_uri": "https://localhost:8080/",
          "height": 584
        },
        "outputId": "ff23e1cb-a66b-4978-8aae-729505c43b30"
      },
      "execution_count": null,
      "outputs": [
        {
          "output_type": "display_data",
          "data": {
            "text/plain": [
              "<Figure size 600x600 with 1 Axes>"
            ],
            "image/png": "[encoded data removed]"
          },
          "metadata": {}
        }
      ]
    },
    {
      "cell_type": "code",
      "source": [
        "fig, ax = plt.subplots(1, 1, figsize=(6,6))\n",
        "plt.axis(\"equal\")\n",
        "ani = anim.FuncAnimation(fig, frame, frames=100, interval=100)\n",
        "\n",
        "# save animation as moving GIF file\n",
        "ani.save(\"troj0.99.gif\", writer='pillow')"
      ],
      "metadata": {
        "id": "T4F3b8vGxuXG",
        "colab": {
          "base_uri": "https://localhost:8080/",
          "height": 584
        },
        "outputId": "ad6bdb5e-5615-4c88-c1eb-1a61d7191f29"
      },
      "execution_count": null,
      "outputs": [
        {
          "output_type": "display_data",
          "data": {
            "text/plain": [
              "<Figure size 600x600 with 1 Axes>"
            ],
            "image/png": "[encoded data removed]"
          },
          "metadata": {}
        }
      ]
    },
    {
      "cell_type": "code",
      "source": [
        "# save as AVI file\n",
        "fig, ax = plt.subplots(1, 1, figsize=(6,6))\n",
        "plt.axis(\"equal\")\n",
        "ani = anim.FuncAnimation(fig, frame, frames=200, interval=100)\n",
        "\n",
        "ani.save(\"troj0.99.avi\")"
      ],
      "metadata": {
        "id": "21ZYEil5Iscp",
        "colab": {
          "base_uri": "https://localhost:8080/",
          "height": 584
        },
        "outputId": "e83e2892-e058-4546-8434-d2840b4c46d8"
      },
      "execution_count": null,
      "outputs": [
        {
          "output_type": "display_data",
          "data": {
            "text/plain": [
              "<Figure size 600x600 with 1 Axes>"
            ],
            "image/png": "[encoded data removed]"
          },
          "metadata": {}
        }
      ]
    },
    {
      "cell_type": "code",
      "source": [],
      "metadata": {
        "id": "QeSu8Vp49N8v"
      },
      "execution_count": null,
      "outputs": []
    }
  ],
  "metadata": {
    "colab": {
      "provenance": [],
      "mount_file_id": "1OyCViRaVhFaAhqb5OuDk41t9S1kzALwS",
      "authorship_tag": "ABX9TyOHXHzGOo7XNVYGXaVQ8EaQ",
      "include_colab_link": true
    },
    "kernelspec": {
      "display_name": "Python 3",
      "name": "python3"
    },
    "language_info": {
      "name": "python"
    }
  },
  "nbformat": 4,
  "nbformat_minor": 0
}