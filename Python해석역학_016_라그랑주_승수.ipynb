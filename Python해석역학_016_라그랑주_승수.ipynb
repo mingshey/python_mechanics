{
  "nbformat": 4,
  "nbformat_minor": 0,
  "metadata": {
    "colab": {
      "provenance": [],
      "authorship_tag": "ABX9TyPHbuGiOe0pmtSqmZg326Bf",
      "include_colab_link": true
    },
    "kernelspec": {
      "name": "python3",
      "display_name": "Python 3"
    },
    "language_info": {
      "name": "python"
    }
  },
  "cells": [
    {
      "cell_type": "markdown",
      "metadata": {
        "id": "view-in-github",
        "colab_type": "text"
      },
      "source": [
        "<a href=\"https://colab.research.google.com/github/mingshey/python_mechanics/blob/main/Python%ED%95%B4%EC%84%9D%EC%97%AD%ED%95%99_016_%EB%9D%BC%EA%B7%B8%EB%9E%91%EC%A3%BC_%EC%8A%B9%EC%88%98.ipynb\" target=\"_parent\"><img src=\"https://colab.research.google.com/assets/colab-badge.svg\" alt=\"Open In Colab\"/></a>"
      ]
    },
    {
      "cell_type": "markdown",
      "source": [
        "# Analytical Mechanics with Python\n",
        "# 파이썬으로 코딩하는 해석역학\n",
        "## <Elective Tracks 2024 Summer Programme>"
      ],
      "metadata": {
        "id": "ImEjxxHINRwc"
      }
    },
    {
      "cell_type": "markdown",
      "source": [
        "# 10.7 구속력: 라그랑주 승수"
      ],
      "metadata": {
        "id": "cnBNSz605VA5"
      }
    },
    {
      "cell_type": "markdown",
      "source": [
        "물체의 운동이 두 개의 두 개의 일반화 좌표 $q_1$, $q_2$로 기술되고, 두 좌표가 구속 조건\n",
        "\n",
        "$$ f(q_1, q_2, t) = 0 $$\n",
        "\n",
        "으로 얽혀 있어 서로 영향을 주고 받을 때 라그랑지안은\n",
        "\n",
        "$$ L = L(q_1, \\dot q_1, q_2, \\dot q_2; t) $$\n",
        "\n",
        "와 같이 쓰이고, 작용이 최소가 되는 조건을 구해 보면\n",
        "\n",
        "$$\\delta\\int_{t_1}^{t_2}L\\ dt = \\int_{t_1}^{t_2} \\sum_{i=1}^{2} \\left [ \\frac{\\partial L}{\\partial q_i} - \\frac{d}{dt}\\left( \\frac{\\partial L}{\\partial \\dot q_i} \\right) \\right] \\delta q_i \\ dt $$\n",
        "\n",
        "인데, 여기서 피적분 함수인 합($\\Sigma$) 전체는 0이 되어야 하지만, 임의의 시점 $t$에 변분에 의해 좌표 $q_1$에 변화가 생기면 구속 조건에 따라 좌표 $q_2$에도 변화가 따른다. 즉 합 안의 서로 다른 $i$에 대한 항이 연동하여 변하기 때문에 $i$에 대한 대괄호 각각이 $0$이 되어야만 할 이유가 없고, 따라서 $i$번째 좌표 각각에 대한 독립적인 오일러-라그랑주 방정식을 얻을 수 없다는 문제가 생긴다.\n",
        "\n",
        "이 때, 구속 조건은 변하지 않으므로 구속 조건의 변분은 $0$이라는 조건에 의해\n",
        "\n",
        "$$ \\delta f = \\left( \\frac{\\partial f}{\\partial q_1}\\delta q_1 + \\frac{\\partial f}{\\partial q_2}\\delta q_2 \\right) = 0 $$\n",
        "\n",
        "이고, 이를 10.7.2에 대입하면,\n",
        "\n",
        "$$ \\delta q_2 = - \\left(\\frac{\\partial f / \\partial q_1}{\\partial f / \\partial q_2} \\right) \\delta q_1$$\n",
        "\n",
        "이고 이를 이용하면\n",
        "\n",
        "$$\\delta\\int_{t_1}^{t_2}L\\ dt = \\int_{t_1}^{t_2} \\left [ \\left(\\frac{\\partial L}{\\partial q_1} - \\frac{d}{dt} \\frac{\\partial L}{\\partial \\dot q_1} \\right) - \\left(\\frac{\\partial L}{\\partial q_2} - \\frac{d}{dt} \\frac{\\partial L}{\\partial \\dot q_2} \\right) \\left(\\frac{\\partial f / \\partial q_1}{\\partial f / \\partial q_2} \\right) \\right] \\delta q_1 \\ dt = 0 $$\n",
        "\n",
        "이고, 여기서 변수 $q_1$의 임의의 변분에 대해 위 식이 성립하기 위해서는 대괄호 안이 $0$이어야 하므로 그 식을 정리하면\n",
        "\n",
        "$$ \\frac{(\\partial L / \\partial q_1) - (d / dt) \\left(\\partial L / \\partial \\dot q_1 \\right)}{ ( \\partial f / \\partial q_1 ) } = \\frac{ (\\partial L / \\partial q_2 ) - (d/ dt)(\\partial L / \\partial \\dot q_2) }{ ( \\partial f / \\partial q_2 ) } $$\n",
        "\n",
        "이고, 양 변이 어떤 동일한 함수 $-\\lambda(t)$와 같다고 할 수 있다. 이 때 $\\lambda(t)$를 **라그랑주 승수**(Lagrange multiplier)라고 한다. 따라서 위 식으로부터 각각의 $i$에 대하여\n",
        "\n",
        "$$ \\frac{\\partial L}{\\partial q_i} - \\frac{d}{dt} \\frac{\\partial L}{\\partial \\dot q_i} + \\lambda(t)\\frac{\\partial f}{\\partial q_i} = 0 $$\n",
        "\n",
        "이 성립한다고 할 수 있다. 여기서 $ \\lambda(t) (\\partial f / \\partial q_i) $는 라그랑지안과 같은 차원이므로 일반화된 힘의 차원을 갖는다.\n",
        "\n"
      ],
      "metadata": {
        "id": "GBJzHoWrY2MQ"
      }
    },
    {
      "cell_type": "markdown",
      "source": [
        "* 예제 10.7.1"
      ],
      "metadata": {
        "id": "EAHn8Tif5Ql4"
      }
    },
    {
      "cell_type": "markdown",
      "source": [
        "<img src='https://drive.google.com/uc?export=download&id=1p9lNT4BhZKC4J_hXQBlxDHYKbMkXGlcG' width=\"300\" height =\"\" />\n",
        "\n",
        "그림 10.7.1 감긴 끈에서 풀려 내려오는 원반 (p.480)"
      ],
      "metadata": {
        "id": "yGT69TZOc08z"
      }
    },
    {
      "cell_type": "markdown",
      "source": [
        "질량 $m$, 반지름 $a$인 균일한 원반의 관성모멘트(회전 관성):\n",
        "\n",
        "$$ I_{\\rm cm} = \\frac{1}{2} m a^2$$\n",
        "\n",
        "회전 운동 에너지:\n",
        "\n",
        "$$ T_{\\rm rot.} = \\frac{1}{2} I_{\\rm cm} \\dot\\phi ^2  = \\frac{1}{4} m a^2 \\dot\\phi ^2 $$\n",
        "\n",
        "병진 운동 에너지:\n",
        "\n",
        "$$ T_{\\rm tran.} = \\frac{1}{2}m\\dot y ^2 $$\n",
        "\n",
        "전체 운동 에너지:\n",
        "$$ T = T_{\\rm rot.} + T_{\\rm tran.}  = \\frac{1}{2}m\\dot y ^2 + \\frac{1}{4} m a^2 \\dot\\phi ^2 $$\n",
        "\n",
        "퍼텐셜 에너지:\n",
        "\n",
        "$$ V = - m g y$$\n",
        "\n",
        "라그랑지안:\n",
        "\n",
        "$$\n",
        "\\begin{align}\n",
        "L &= T - V\\\\\n",
        "&= \\frac{1}{2}m\\dot y ^2 + \\frac{1}{4} m a^2 \\dot\\phi ^2 + m g y\n",
        "\\end{align}\n",
        "$$\n",
        "\n",
        "$y$ 와 $\\phi$는 독립적이지 않고\n",
        "$$y= a \\phi$$\n",
        "인 조건으로 서로 연결되어 있다. 따라서 이 식을 이용하여 한 개의 일반화 좌표에 대한 운동으로 풀 수 있다. 그러나 그렇게 하면 실에 걸리는 장력은 구할 수 없다. 실에 대한 장력을 구하기 위해서는 두 좌표를 마치 독립적인 좌표인 것처럼 그대로 두고, 라그랑주 승수를 가진 라그랑주 방정식을 써야 한다. 즉,\n",
        "\n",
        "구속 조건 방정식\n",
        "\n",
        "$$ f (y,\\ \\phi) = y - a \\phi = 0$$\n",
        "\n",
        "과 각각의 좌표에 대한 라그랑주 방정식\n",
        "\n",
        "$$\n",
        "\\begin{align}\n",
        "\\frac{\\partial L}{\\partial y} - \\frac{d}{dt} \\frac{\\partial L}{\\partial \\dot y} + \\lambda\\frac{\\partial f}{\\partial y} &= 0\\\\\n",
        "\\frac{\\partial L}{\\partial \\phi} - \\frac{d}{dt} \\frac{\\partial L}{\\partial \\dot \\phi} + \\lambda\\frac{\\partial f}{\\partial \\phi} &= 0\n",
        "\\end{align}\n",
        "$$\n",
        "\n",
        "을 연립하여 $\\ddot y,\\ \\ddot\\phi,\\ \\lambda$에 대하여 풀어야 한다."
      ],
      "metadata": {
        "id": "42bjE-T3gSbM"
      }
    },
    {
      "cell_type": "code",
      "execution_count": null,
      "metadata": {
        "id": "3IxX_8Ywzso9"
      },
      "outputs": [],
      "source": [
        "import sympy as sym\n",
        "import numpy as np\n",
        "import matplotlib.pyplot as plt\n",
        "from scipy.integrate import solve_ivp"
      ]
    },
    {
      "cell_type": "code",
      "source": [
        "sym.init_printing()"
      ],
      "metadata": {
        "id": "JIL6GvXWEqSb"
      },
      "execution_count": null,
      "outputs": []
    },
    {
      "cell_type": "code",
      "source": [
        "t = sym.Symbol(\"t\")\n",
        "m, a, g = sym.symbols(r\"m a g\", positive=True)\n",
        "y, phi = sym.symbols(r\"y \\phi\", cls = sym.Function)\n",
        "y, phi = y(t), phi(t)\n",
        "y, phi"
      ],
      "metadata": {
        "colab": {
          "base_uri": "https://localhost:8080/",
          "height": 38
        },
        "id": "K9aT4CDGEij2",
        "outputId": "1e17e1de-9c62-4d09-9136-0c9b660675f0"
      },
      "execution_count": null,
      "outputs": [
        {
          "output_type": "execute_result",
          "data": {
            "text/plain": [
              "(y(t), \\phi(t))"
            ],
            "text/latex": "$\\displaystyle \\left( y{\\left(t \\right)}, \\  \\phi{\\left(t \\right)}\\right)$"
          },
          "metadata": {},
          "execution_count": 37
        }
      ]
    },
    {
      "cell_type": "code",
      "source": [
        "ydot = sym.diff(y, t)\n",
        "phidot = sym.diff(phi, t)\n",
        "ydot, phidot"
      ],
      "metadata": {
        "colab": {
          "base_uri": "https://localhost:8080/",
          "height": 58
        },
        "id": "p9uzFC19EtPE",
        "outputId": "683c75b2-657f-425b-a525-9c2b8852e3a5"
      },
      "execution_count": null,
      "outputs": [
        {
          "output_type": "execute_result",
          "data": {
            "text/plain": [
              "⎛d         d          ⎞\n",
              "⎜──(y(t)), ──(\\phi(t))⎟\n",
              "⎝dt        dt         ⎠"
            ],
            "text/latex": "$\\displaystyle \\left( \\frac{d}{d t} y{\\left(t \\right)}, \\  \\frac{d}{d t} \\phi{\\left(t \\right)}\\right)$"
          },
          "metadata": {},
          "execution_count": 38
        }
      ]
    },
    {
      "cell_type": "code",
      "source": [
        "# 균일한 원반의 회전 관성\n",
        "Icm = 1/2 * m * a**2\n",
        "Icm"
      ],
      "metadata": {
        "id": "CMDmGKtkFd1L",
        "colab": {
          "base_uri": "https://localhost:8080/",
          "height": 38
        },
        "outputId": "6032f61c-fb17-43f2-c805-b48196a548bb"
      },
      "execution_count": null,
      "outputs": [
        {
          "output_type": "execute_result",
          "data": {
            "text/plain": [
              "     2  \n",
              "0.5⋅a ⋅m"
            ],
            "text/latex": "$\\displaystyle 0.5 a^{2} m$"
          },
          "metadata": {},
          "execution_count": 40
        }
      ]
    },
    {
      "cell_type": "code",
      "source": [
        "# 전체 운동 에너지\n",
        "T = 1/2 * m * ydot**2 + 1/2 * Icm * phidot**2\n",
        "T"
      ],
      "metadata": {
        "colab": {
          "base_uri": "https://localhost:8080/",
          "height": 61
        },
        "id": "CTY4uDFhFCj6",
        "outputId": "81b39ace-c69f-47d4-d0ab-1a7ffe55c6bc"
      },
      "execution_count": null,
      "outputs": [
        {
          "output_type": "execute_result",
          "data": {
            "text/plain": [
              "                       2                   2\n",
              "      2   ⎛d          ⎞          ⎛d       ⎞ \n",
              "0.25⋅a ⋅m⋅⎜──(\\phi(t))⎟  + 0.5⋅m⋅⎜──(y(t))⎟ \n",
              "          ⎝dt         ⎠          ⎝dt      ⎠ "
            ],
            "text/latex": "$\\displaystyle 0.25 a^{2} m \\left(\\frac{d}{d t} \\phi{\\left(t \\right)}\\right)^{2} + 0.5 m \\left(\\frac{d}{d t} y{\\left(t \\right)}\\right)^{2}$"
          },
          "metadata": {},
          "execution_count": 41
        }
      ]
    },
    {
      "cell_type": "code",
      "source": [
        "# 퍼텐셜 에너지\n",
        "V = -m * g * y\n",
        "V"
      ],
      "metadata": {
        "colab": {
          "base_uri": "https://localhost:8080/",
          "height": 38
        },
        "id": "h752-l7PFhgZ",
        "outputId": "a57525df-3593-490b-9ba7-1d92e71d922d"
      },
      "execution_count": null,
      "outputs": [
        {
          "output_type": "execute_result",
          "data": {
            "text/plain": [
              "-g⋅m⋅y(t)"
            ],
            "text/latex": "$\\displaystyle - g m y{\\left(t \\right)}$"
          },
          "metadata": {},
          "execution_count": 42
        }
      ]
    },
    {
      "cell_type": "code",
      "source": [
        "# 구속 조건 방정식(의 좌변)\n",
        "f = y - a * phi\n",
        "f"
      ],
      "metadata": {
        "id": "ezdHxEDyF1x5",
        "colab": {
          "base_uri": "https://localhost:8080/",
          "height": 38
        },
        "outputId": "3f2c0b52-24bf-4423-b8cc-2ab791729f58"
      },
      "execution_count": null,
      "outputs": [
        {
          "output_type": "execute_result",
          "data": {
            "text/plain": [
              "-a⋅\\phi(t) + y(t)"
            ],
            "text/latex": "$\\displaystyle - a \\phi{\\left(t \\right)} + y{\\left(t \\right)}$"
          },
          "metadata": {},
          "execution_count": 43
        }
      ]
    },
    {
      "cell_type": "code",
      "source": [
        "# 라그랑지안\n",
        "L = T - V\n",
        "L"
      ],
      "metadata": {
        "colab": {
          "base_uri": "https://localhost:8080/",
          "height": 61
        },
        "id": "WpeMlOPUF-dv",
        "outputId": "7568ef04-52e7-4e7d-91fb-fdfb36053142"
      },
      "execution_count": null,
      "outputs": [
        {
          "output_type": "execute_result",
          "data": {
            "text/plain": [
              "                       2                              2\n",
              "      2   ⎛d          ⎞                     ⎛d       ⎞ \n",
              "0.25⋅a ⋅m⋅⎜──(\\phi(t))⎟  + g⋅m⋅y(t) + 0.5⋅m⋅⎜──(y(t))⎟ \n",
              "          ⎝dt         ⎠                     ⎝dt      ⎠ "
            ],
            "text/latex": "$\\displaystyle 0.25 a^{2} m \\left(\\frac{d}{d t} \\phi{\\left(t \\right)}\\right)^{2} + g m y{\\left(t \\right)} + 0.5 m \\left(\\frac{d}{d t} y{\\left(t \\right)}\\right)^{2}$"
          },
          "metadata": {},
          "execution_count": 44
        }
      ]
    },
    {
      "cell_type": "code",
      "source": [
        "# 라그랑주 승수\n",
        "lamda = sym.Symbol(r\"\\lambda\")\n",
        "lamda"
      ],
      "metadata": {
        "colab": {
          "base_uri": "https://localhost:8080/",
          "height": 38
        },
        "id": "22BrcHXkGWZM",
        "outputId": "23cdfc0c-d1df-4ba6-f954-b3e0c4c3edeb"
      },
      "execution_count": null,
      "outputs": [
        {
          "output_type": "execute_result",
          "data": {
            "text/plain": [
              "\\lambda"
            ],
            "text/latex": "$\\displaystyle \\lambda$"
          },
          "metadata": {},
          "execution_count": 47
        }
      ]
    },
    {
      "cell_type": "code",
      "source": [
        "df_dy = sym.diff(f, y)\n",
        "df_dphi = sym.diff(f, phi)\n",
        "\n",
        "# 오일러-라그랑주 방정식\n",
        "eq_y = sym.diff(L, y) - sym.diff(sym.diff(L,ydot), t) + lamda * df_dy\n",
        "eq_phi = sym.diff(L, phi) - sym.diff(sym.diff(L,phidot), t) + lamda * df_dphi"
      ],
      "metadata": {
        "id": "noFfgkxAGEw7"
      },
      "execution_count": null,
      "outputs": []
    },
    {
      "cell_type": "markdown",
      "source": [
        "$y$에 대한 운동 방정식:"
      ],
      "metadata": {
        "id": "ZUVXpQpRmn5-"
      }
    },
    {
      "cell_type": "code",
      "source": [
        "eq_y"
      ],
      "metadata": {
        "colab": {
          "base_uri": "https://localhost:8080/",
          "height": 54
        },
        "id": "vAusiFszGsiV",
        "outputId": "d65381f2-fc07-4b45-edff-96fc9c97a1eb"
      },
      "execution_count": null,
      "outputs": [
        {
          "output_type": "execute_result",
          "data": {
            "text/plain": [
              "                       2       \n",
              "                      d        \n",
              "\\lambda + g⋅m - 1.0⋅m⋅───(y(t))\n",
              "                        2      \n",
              "                      dt       "
            ],
            "text/latex": "$\\displaystyle \\lambda + g m - 1.0 m \\frac{d^{2}}{d t^{2}} y{\\left(t \\right)}$"
          },
          "metadata": {},
          "execution_count": 49
        }
      ]
    },
    {
      "cell_type": "markdown",
      "source": [
        "$\\phi$에 대한 운동 방정식:"
      ],
      "metadata": {
        "id": "NWJA9BL5mrf0"
      }
    },
    {
      "cell_type": "code",
      "source": [
        "eq_phi"
      ],
      "metadata": {
        "colab": {
          "base_uri": "https://localhost:8080/",
          "height": 54
        },
        "id": "VRJETF_Ukc7-",
        "outputId": "1e16a1b7-bc1a-4d0c-c0da-661c083b9396"
      },
      "execution_count": null,
      "outputs": [
        {
          "output_type": "execute_result",
          "data": {
            "text/plain": [
              "                       2          \n",
              "                  2   d           \n",
              "-\\lambda⋅a - 0.5⋅a ⋅m⋅───(\\phi(t))\n",
              "                        2         \n",
              "                      dt          "
            ],
            "text/latex": "$\\displaystyle - \\lambda a - 0.5 a^{2} m \\frac{d^{2}}{d t^{2}} \\phi{\\left(t \\right)}$"
          },
          "metadata": {},
          "execution_count": 50
        }
      ]
    },
    {
      "cell_type": "code",
      "source": [
        "yddot = sym.diff(ydot,t)\n",
        "phiddot = sym.diff(phidot,t)\n",
        "yddot, phiddot"
      ],
      "metadata": {
        "colab": {
          "base_uri": "https://localhost:8080/",
          "height": 58
        },
        "id": "RTumBmVBHD-8",
        "outputId": "5bec03bb-3923-4c91-f552-ba6bee77310b"
      },
      "execution_count": null,
      "outputs": [
        {
          "output_type": "execute_result",
          "data": {
            "text/plain": [
              "⎛ 2          2          ⎞\n",
              "⎜d          d           ⎟\n",
              "⎜───(y(t)), ───(\\phi(t))⎟\n",
              "⎜  2          2         ⎟\n",
              "⎝dt         dt          ⎠"
            ],
            "text/latex": "$\\displaystyle \\left( \\frac{d^{2}}{d t^{2}} y{\\left(t \\right)}, \\  \\frac{d^{2}}{d t^{2}} \\phi{\\left(t \\right)}\\right)$"
          },
          "metadata": {},
          "execution_count": 51
        }
      ]
    },
    {
      "cell_type": "markdown",
      "source": [
        "방정식을 연립하여 $\\ddot y$, $\\ddot \\phi$, $\\lambda$에 대하여 풀면:"
      ],
      "metadata": {
        "id": "aip553B7m1U8"
      }
    },
    {
      "cell_type": "code",
      "source": [
        "sol = sym.solve([eq_y, eq_phi, sym.diff(f,t,2)],[yddot, phiddot, lamda])\n",
        "sol[yddot], sol[phiddot], sol[lamda]"
      ],
      "metadata": {
        "colab": {
          "base_uri": "https://localhost:8080/",
          "height": 58
        },
        "id": "5qgnPRdiGzjb",
        "outputId": "c491463c-0699-4704-d1fe-f12aace676b7"
      },
      "execution_count": null,
      "outputs": [
        {
          "output_type": "execute_result",
          "data": {
            "text/plain": [
              "⎛                     0.666666666666667⋅g                        ⎞\n",
              "⎜0.666666666666667⋅g, ───────────────────, -0.333333333333333⋅g⋅m⎟\n",
              "⎝                              a                                 ⎠"
            ],
            "text/latex": "$\\displaystyle \\left( 0.666666666666667 g, \\  \\frac{0.666666666666667 g}{a}, \\  - 0.333333333333333 g m\\right)$"
          },
          "metadata": {},
          "execution_count": 52
        }
      ]
    },
    {
      "cell_type": "markdown",
      "source": [
        "이렇게 구한 $\\lambda$ 의 값을 이용하여 구속력을 구한다:"
      ],
      "metadata": {
        "id": "ssjzS109nKy8"
      }
    },
    {
      "cell_type": "code",
      "source": [
        "Qy = lamda * df_dy\n",
        "Qphi = lamda * df_dphi"
      ],
      "metadata": {
        "id": "45EMal21HUjW"
      },
      "execution_count": null,
      "outputs": []
    },
    {
      "cell_type": "markdown",
      "source": [
        "$y$에 대한 구속력, 즉 실의 장력 $Q_y^\\prime$:"
      ],
      "metadata": {
        "id": "ZqsRiL89nYWG"
      }
    },
    {
      "cell_type": "code",
      "source": [
        "Qy"
      ],
      "metadata": {
        "colab": {
          "base_uri": "https://localhost:8080/",
          "height": 38
        },
        "id": "WCQ4FV5Dnc2E",
        "outputId": "f3e2a2cb-f4e6-4f9f-85b9-af29550bcfa9"
      },
      "execution_count": null,
      "outputs": [
        {
          "output_type": "execute_result",
          "data": {
            "text/plain": [
              "\\lambda"
            ],
            "text/latex": "$\\displaystyle \\lambda$"
          },
          "metadata": {},
          "execution_count": 54
        }
      ]
    },
    {
      "cell_type": "markdown",
      "source": [
        "$\\phi$에 대한 구속력, 즉 실의 장력에 의한 토크(돌림힘) $Q_{\\phi}^\\prime$:"
      ],
      "metadata": {
        "id": "0e2bR2JynfCL"
      }
    },
    {
      "cell_type": "code",
      "source": [
        "Qphi"
      ],
      "metadata": {
        "colab": {
          "base_uri": "https://localhost:8080/",
          "height": 38
        },
        "id": "Qm_xveOHn-ou",
        "outputId": "09269015-1acc-44a4-910c-dc2166632d0d"
      },
      "execution_count": null,
      "outputs": [
        {
          "output_type": "execute_result",
          "data": {
            "text/plain": [
              "-\\lambda⋅a"
            ],
            "text/latex": "$\\displaystyle - \\lambda a$"
          },
          "metadata": {},
          "execution_count": 55
        }
      ]
    },
    {
      "cell_type": "code",
      "source": [
        "Q_y = sol[lamda] * df_dy\n",
        "Q_phi = sol[lamda] * df_dphi"
      ],
      "metadata": {
        "id": "L0xgIK30caWN"
      },
      "execution_count": null,
      "outputs": []
    },
    {
      "cell_type": "markdown",
      "source": [
        "$Q_y^\\prime$의 값:"
      ],
      "metadata": {
        "id": "SzIj9AkknqGz"
      }
    },
    {
      "cell_type": "code",
      "source": [
        "Q_y"
      ],
      "metadata": {
        "id": "2G28zZWGck82",
        "colab": {
          "base_uri": "https://localhost:8080/",
          "height": 38
        },
        "outputId": "971294d8-966b-48fc-84a4-00637edba753"
      },
      "execution_count": null,
      "outputs": [
        {
          "output_type": "execute_result",
          "data": {
            "text/plain": [
              "-0.333333333333333⋅g⋅m"
            ],
            "text/latex": "$\\displaystyle - 0.333333333333333 g m$"
          },
          "metadata": {},
          "execution_count": 57
        }
      ]
    },
    {
      "cell_type": "markdown",
      "source": [
        "$Q_\\phi^\\prime$의 값:"
      ],
      "metadata": {
        "id": "tiNMuw8roH-0"
      }
    },
    {
      "cell_type": "code",
      "source": [
        "Q_phi"
      ],
      "metadata": {
        "colab": {
          "base_uri": "https://localhost:8080/",
          "height": 38
        },
        "id": "vADQX0uXoBtc",
        "outputId": "40bdb836-4299-49e1-853e-4ba1ab162451"
      },
      "execution_count": null,
      "outputs": [
        {
          "output_type": "execute_result",
          "data": {
            "text/plain": [
              "0.333333333333333⋅a⋅g⋅m"
            ],
            "text/latex": "$\\displaystyle 0.333333333333333 a g m$"
          },
          "metadata": {},
          "execution_count": 58
        }
      ]
    },
    {
      "cell_type": "code",
      "source": [],
      "metadata": {
        "id": "HWvz5G4GMxNU"
      },
      "execution_count": null,
      "outputs": []
    }
  ]
}